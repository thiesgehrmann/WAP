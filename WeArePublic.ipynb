{
 "cells": [
  {
   "cell_type": "markdown",
   "metadata": {},
   "source": [
    "# Improved lookup of We are Public events"
   ]
  },
  {
   "cell_type": "code",
   "execution_count": 1,
   "metadata": {},
   "outputs": [
    {
     "name": "stderr",
     "output_type": "stream",
     "text": [
      "/Users/thiesgehrmann/miniconda3/lib/python3.6/importlib/_bootstrap.py:219: RuntimeWarning: numpy.dtype size changed, may indicate binary incompatibility. Expected 96, got 88\n",
      "  return f(*args, **kwds)\n",
      "W: The following dependencies of BIU are missing. Functionality of BIU will be affected.\n",
      "W:   tabix, intervaltree, vcf\n",
      "W: Some optional dependencies of BIU are missing. Functionality of BIU may be affected.\n",
      "W:   matplotlib_venn, fastcluster, matplotlib, snakemake, openpyxl, xlrd\n"
     ]
    }
   ],
   "source": [
    "import biu as biu\n",
    "import json\n",
    "import IPython\n",
    "import pandas as pd\n",
    "\n",
    "import WeArePublic"
   ]
  },
  {
   "cell_type": "code",
   "execution_count": 2,
   "metadata": {},
   "outputs": [],
   "source": [
    "wap = WeArePublic.WeArePublic()"
   ]
  },
  {
   "cell_type": "code",
   "execution_count": 3,
   "metadata": {},
   "outputs": [],
   "source": [
    "#wap.query(city='Leiden')"
   ]
  },
  {
   "cell_type": "code",
   "execution_count": 4,
   "metadata": {},
   "outputs": [
    {
     "name": "stdout",
     "output_type": "stream",
     "text": [
      "NOW IN REPR HTML\n"
     ]
    },
    {
     "data": {
      "text/html": [
       "<div><img src=\"https://www.wearepublic.nl/wp-content/uploads/2018/07/Ace-in-the-Hole-720x947.jpg\" class=\"attachment-event_item_image size-event_item_image wp-post-image\" alt=\"\" srcset=\"https://www.wearepublic.nl/wp-content/uploads/2018/07/Ace-in-the-Hole-720x947.jpg 720w, https://www.wearepublic.nl/wp-content/uploads/2018/07/Ace-in-the-Hole-228x300.jpg 228w, https://www.wearepublic.nl/wp-content/uploads/2018/07/Ace-in-the-Hole-768x1010.jpg 768w, https://www.wearepublic.nl/wp-content/uploads/2018/07/Ace-in-the-Hole-779x1024.jpg 779w, https://www.wearepublic.nl/wp-content/uploads/2018/07/Ace-in-the-Hole-500x657.jpg 500w, https://www.wearepublic.nl/wp-content/uploads/2018/07/Ace-in-the-Hole-300x394.jpg 300w, https://www.wearepublic.nl/wp-content/uploads/2018/07/Ace-in-the-Hole.jpg 1217w\" sizes=\"(max-width: 720px) 100vw, 720px\" /></div>"
      ],
      "text/plain": [
       "WAP Event\n",
       " Title:    Trianon klassiekers | Billy Wilder | Ace in the Hole\n",
       " Date:     18 aug\n",
       " Location: Trianon\n",
       " City:     Leiden\n",
       " Bookable: No\n",
       " URL:      https://www.wearepublic.nl/event/trianon-klassiekers-billy-wilder-ace-in-the-hole/\n",
       " Category: Film"
      ]
     },
     "execution_count": 4,
     "metadata": {},
     "output_type": "execute_result"
    }
   ],
   "source": [
    "wap[74588]"
   ]
  },
  {
   "cell_type": "code",
   "execution_count": 5,
   "metadata": {},
   "outputs": [],
   "source": [
    "relLine = [ line for line in wap[75209].permdata.split('\\n') if 'voor We Are Public-leden' in line ]"
   ]
  },
  {
   "cell_type": "code",
   "execution_count": 6,
   "metadata": {},
   "outputs": [
    {
     "data": {
      "text/plain": [
       "[]"
      ]
     },
     "execution_count": 6,
     "metadata": {},
     "output_type": "execute_result"
    }
   ],
   "source": [
    "relLine"
   ]
  },
  {
   "cell_type": "code",
   "execution_count": 7,
   "metadata": {},
   "outputs": [
    {
     "name": "stdout",
     "output_type": "stream",
     "text": [
      "WAP Event\n",
      " Title:    As You Like It\n",
      " Date:     29 sep\n",
      " Location: Annatheater\n",
      " City:     Helmond\n",
      " Bookable: No\n",
      " URL:      https://www.wearepublic.nl/event/as-you-like-it/\n",
      " Category: Theater\n",
      "\n"
     ]
    }
   ],
   "source": [
    "print(wap[77154])"
   ]
  },
  {
   "cell_type": "code",
   "execution_count": 8,
   "metadata": {},
   "outputs": [
    {
     "data": {
      "text/plain": [
       "[WAPEvent(ID=71070, title='Born at Night | Joseph Grima, Martina Muzi (t/m 17 september)', day=23, month='mei', date=datetime.datetime(2018, 5, 23, 0, 0), price=0, bookable=False, url='https://www.wearepublic.nl/event/born-night-joseph-grima-martina-muzi-2/', category=['Beeldende Kunst'], location='Kazerne', city='Eindhoven'),\n",
       " WAPEvent(ID=71100, title='Exhibition Sonic Sprawl | Sophia Bulgakova (t/m 19 augustus)', day=23, month='mei', date=datetime.datetime(2018, 5, 23, 0, 0), price=0, bookable=False, url='https://www.wearepublic.nl/event/exhibition-sonic-sprawl-sophia-bulgakova/', category=['Beeldende Kunst'], location='Baltan Laboratories', city='Eindhoven'),\n",
       " WAPEvent(ID=74810, title='FREE ART NOW', day=3, month='aug', date=datetime.datetime(2018, 8, 3, 0, 0), price=0, bookable=False, url='https://www.wearepublic.nl/event/freeartnow/', category=['Beeldende Kunst'], location='Diverse locaties, Amsterdam', city='Amsterdam'),\n",
       " WAPEvent(ID=75542, title='True Beauty', day=14, month='aug', date=datetime.datetime(2018, 8, 14, 0, 0), price=0, bookable=False, url='https://www.wearepublic.nl/event/true-beauty/', category=['Beeldende Kunst'], location='Stedelijk Museum Breda', city='Breda'),\n",
       " WAPEvent(ID=76222, title='Rendez-Vous', day=14, month='aug', date=datetime.datetime(2018, 8, 14, 0, 0), price=0, bookable=False, url='https://www.wearepublic.nl/event/rendez-vous-2-2/', category=['Beeldende Kunst'], location='Frans Hals Museum', city='Haarlem'),\n",
       " WAPEvent(ID=75372, title='Grace Jones | Bloodlight and Bami', day=16, month='aug', date=datetime.datetime(2018, 8, 16, 0, 0), price=0, bookable=False, url='https://www.wearepublic.nl/event/grace-jones-bloodlight-and-bami/', category=['Film'], location='FilmHallen', city='Amsterdam'),\n",
       " WAPEvent(ID=75310, title='Fietstocht Kunst op straat', day=17, month='aug', date=datetime.datetime(2018, 8, 17, 0, 0), price=0, bookable=False, url='https://www.wearepublic.nl/event/fietstocht-kunst-op-straat/', category=['Beeldende Kunst'], location='Van Eesteren Museum', city='Amsterdam'),\n",
       " WAPEvent(ID=76313, title='Best of Graduates 2018', day=17, month='aug', date=datetime.datetime(2018, 8, 17, 0, 0), price=0, bookable=False, url='https://www.wearepublic.nl/event/best-of-graduates-2018/', category=['Beeldende Kunst'], location='Galerie Ron Mandos', city='Amsterdam'),\n",
       " WAPEvent(ID=75754, title='Buitenfilm | Maudie', day=17, month='aug', date=datetime.datetime(2018, 8, 17, 0, 0), price=0, bookable=False, url='https://www.wearepublic.nl/event/buitenfilm-maudie-2/', category=['Film'], location='Verkadefabriek', city='Den Bosch'),\n",
       " WAPEvent(ID=75381, title='Scènes uit een huwelijk | Internationaal Theater Amsterdam', day=17, month='aug', date=datetime.datetime(2018, 8, 17, 0, 0), price=0, bookable=False, url='https://www.wearepublic.nl/event/scenes-uit-een-huwelijk-internationaal-theater-amsterdam/', category=['Theater'], location='Internationaal Theater Amsterdam', city='Amsterdam'),\n",
       " WAPEvent(ID=75757, title='Rock ’n Grill | The March | Ava Warden', day=17, month='aug', date=datetime.datetime(2018, 8, 17, 0, 0), price=0, bookable=False, url='https://www.wearepublic.nl/event/rock-n-grill-the-march/', category=['Muziek'], location='POPEI', city='Eindhoven'),\n",
       " WAPEvent(ID=72750, title='Parade Amsterdam', day=17, month='aug', date=datetime.datetime(2018, 8, 17, 0, 0), price=0, bookable=False, url='https://www.wearepublic.nl/event/parade-amsterdam-2/', category=['Theater'], location='Martin Luther Kingpark', city='Diverse'),\n",
       " WAPEvent(ID=75586, title='Buitenfilm | La Isla Minima', day=17, month='aug', date=datetime.datetime(2018, 8, 17, 0, 0), price=0, bookable=False, url='https://www.wearepublic.nl/event/buitenfilm-la-isla-minima/', category=['Film'], location='Natlab', city='Eindhoven'),\n",
       " WAPEvent(ID=75209, title='Grachtenfestival | Altéide Quintet', day=17, month='aug', date=datetime.datetime(2018, 8, 17, 0, 0), price=0, bookable=False, url='https://www.wearepublic.nl/event/grachtenfestival-alteide-quintet-2/', category=['Muziek'], location='Koninklijke Industrieele Groote Club', city='Amsterdam'),\n",
       " WAPEvent(ID=75728, title='Back End | Dries Depoorter', day=17, month='aug', date=datetime.datetime(2018, 8, 17, 0, 0), price=0, bookable=False, url='https://www.wearepublic.nl/event/opening-back-end-dries-depoorter-5/', category=['Beeldende Kunst'], location='MU', city='Eindhoven'),\n",
       " WAPEvent(ID=77442, title='Jeans | Spekki Webu', day=18, month='aug', date=datetime.datetime(2018, 8, 18, 0, 0), price=0, bookable=False, url='https://www.wearepublic.nl/event/jeans-spekki-webu/', category=['Muziek'], location='Het Magazijn', city='Den Haag'),\n",
       " WAPEvent(ID=75743, title='Open Air Film Festival | Tanna', day=18, month='aug', date=datetime.datetime(2018, 8, 18, 0, 0), price=0, bookable=False, url='https://www.wearepublic.nl/event/open-air-film-festival-tanna/', category=['Film', 'Luisteren'], location='Het Nutshuis', city='Den Haag'),\n",
       " WAPEvent(ID=77450, title='Radical Software | The Raindance Foundation', day=18, month='aug', date=datetime.datetime(2018, 8, 18, 0, 0), price=0, bookable=False, url='https://www.wearepublic.nl/event/radical-software-the-raindance-foundation/', category=['Beeldende Kunst'], location='West Museumkwartier', city='Den Haag'),\n",
       " WAPEvent(ID=75385, title='Amsterdam Soul Weekender | House Disco Special', day=18, month='aug', date=datetime.datetime(2018, 8, 18, 0, 0), price=0, bookable=False, url='https://www.wearepublic.nl/event/amsterdam-soul-weekender-house-disco-special/', category=['Muziek'], location='Paradiso', city='Amsterdam'),\n",
       " WAPEvent(ID=75764, title='Buitenfilm | The Party', day=18, month='aug', date=datetime.datetime(2018, 8, 18, 0, 0), price=0, bookable=False, url='https://www.wearepublic.nl/event/buitenfilm-the-party/', category=['Film'], location='Natlab', city='Eindhoven'),\n",
       " WAPEvent(ID=75768, title='Buitenfilm | Maudie', day=18, month='aug', date=datetime.datetime(2018, 8, 18, 0, 0), price=0, bookable=False, url='https://www.wearepublic.nl/event/buitenfilm-maudie-3/', category=['Film'], location='Verkadefabriek', city='Den Bosch'),\n",
       " WAPEvent(ID=76040, title='Positief Reisadvies Noord-Holland | Een weekend lang op cultureel avontuur in Amsterdam', day=18, month='aug', date=datetime.datetime(2018, 8, 18, 0, 0), price=0, bookable=False, url='https://www.wearepublic.nl/event/positief-reisadvies-noord-holland/', category=['Beeldende Kunst', 'Dans', 'Film', 'Muziek', 'Theater'], location='Diverse locaties, Noord-Holland', city='Diverse'),\n",
       " WAPEvent(ID=74588, title='Trianon klassiekers | Billy Wilder | Ace in the Hole', day=18, month='aug', date=datetime.datetime(2018, 8, 18, 0, 0), price=0, bookable=False, url='https://www.wearepublic.nl/event/trianon-klassiekers-billy-wilder-ace-in-the-hole/', category=['Film'], location='Trianon', city='Leiden'),\n",
       " WAPEvent(ID=75213, title='Club Grachtenfestival | Tango in de tuin', day=18, month='aug', date=datetime.datetime(2018, 8, 18, 0, 0), price=0, bookable=False, url='https://www.wearepublic.nl/event/club-grachtenfestival-tango-in-de-tuin-2/', category=['Muziek'], location='Tolhuistuin', city='Amsterdam'),\n",
       " WAPEvent(ID=78012, title='Young M.A.', day=19, month='aug', date=datetime.datetime(2018, 8, 19, 0, 0), price=0, bookable=False, url='https://www.wearepublic.nl/event/young-m-a/', category=['Muziek'], location='Melkweg', city='Amsterdam'),\n",
       " WAPEvent(ID=75823, title='Tussenland | PS|theater', day=19, month='aug', date=datetime.datetime(2018, 8, 19, 0, 0), price=0, bookable=True, url='https://www.wearepublic.nl/event/tussenland-pstheater-19-aug/', category=['Theater'], location='De Tuin van de smid in Polderpark Cronesteyn', city='Leiden'),\n",
       " WAPEvent(ID=75847, title='Instaptour Rendez-Vous met Frans Hals', day=19, month='aug', date=datetime.datetime(2018, 8, 19, 0, 0), price=0, bookable=True, url='https://www.wearepublic.nl/event/instaptour-rendez-vous-met-frans-hals/', category=['Beeldende Kunst'], location='Frans Hals Museum', city='Haarlem'),\n",
       " WAPEvent(ID=76358, title='Public Insight | Warming up 2 | Rondleiding Zandmotor | Satellietgroep', day=19, month='aug', date=datetime.datetime(2018, 8, 19, 0, 0), price=0, bookable=True, url='https://www.wearepublic.nl/event/satellietgroep-rondleiding-zandmotor/', category=['Beeldende Kunst', 'Luisteren'], location='Blow Beach House', city='Kijkduin'),\n",
       " WAPEvent(ID=76990, title='Sizzling Summer of Space | Leiden in Space', day=19, month='aug', date=datetime.datetime(2018, 8, 19, 0, 0), price=0, bookable=False, url='https://www.wearepublic.nl/event/leiden-in-space-sterrewacht/', category=['Beeldende Kunst', 'Luisteren'], location='Oude Sterrewacht', city='Leiden'),\n",
       " WAPEvent(ID=75397, title='Jack Lemmon special: The Fortune Cookie + inleiding', day=19, month='aug', date=datetime.datetime(2018, 8, 19, 0, 0), price=0, bookable=False, url='https://www.wearepublic.nl/event/jack-lemmon-special-the-fortune-cookie-inleiding/', category=['Film'], location='EYE', city='Amsterdam'),\n",
       " WAPEvent(ID=75859, title='ARTOGETHER | Dries Depoorter', day=19, month='aug', date=datetime.datetime(2018, 8, 19, 0, 0), price=0, bookable=False, url='https://www.wearepublic.nl/event/artogether-dries-depoorter/', category=['Beeldende Kunst'], location='MU', city='Eindhoven'),\n",
       " WAPEvent(ID=75864, title='Hybrids', day=19, month='aug', date=datetime.datetime(2018, 8, 19, 0, 0), price=0, bookable=False, url='https://www.wearepublic.nl/event/hybrids-3-2/', category=['Beeldende Kunst'], location='Lustwarande', city='Tilburg'),\n",
       " WAPEvent(ID=77003, title='Sizzling Summer of Space | Leiden in Space', day=19, month='aug', date=datetime.datetime(2018, 8, 19, 0, 0), price=0, bookable=False, url='https://www.wearepublic.nl/event/leiden-in-space-boerhaave/', category=['Luisteren'], location='Rijksmuseum Boerhaave', city='Leiden'),\n",
       " WAPEvent(ID=76241, title='The Lady Vanishes', day=20, month='aug', date=datetime.datetime(2018, 8, 20, 0, 0), price=0, bookable=False, url='https://www.wearepublic.nl/event/the-lady-vanishes/', category=['Film'], location='Lab 111', city='Amsterdam'),\n",
       " WAPEvent(ID=72543, title='L’histoire kaputt | Alex van Warmerdam', day=20, month='aug', date=datetime.datetime(2018, 8, 20, 0, 0), price=3.0, bookable=False, url='https://www.wearepublic.nl/event/lhistoire-kaputt-alex-van-warmerdam-2/', category=['Beeldende Kunst'], location='EYE', city='Amsterdam'),\n",
       " WAPEvent(ID=77656, title='The Guilty', day=20, month='aug', date=datetime.datetime(2018, 8, 20, 0, 0), price=0, bookable=False, url='https://www.wearepublic.nl/event/the-guilty/', category=['Film'], location='Cacaofabriek', city='Helmond'),\n",
       " WAPEvent(ID=74591, title='Wolpop | Owee | Andere Koek, Stennis, Hutspot, Gully Flowers', day=21, month='aug', date=datetime.datetime(2018, 8, 21, 0, 0), price=0, bookable=False, url='https://www.wearepublic.nl/event/wolpop-owee-andere-koek-stennis-hutspot-gully-flowers/', category=['Muziek'], location='Novum', city='Delft'),\n",
       " WAPEvent(ID=78018, title='Pluk de Nacht | Buy me a gun', day=21, month='aug', date=datetime.datetime(2018, 8, 21, 0, 0), price=0, bookable=False, url='https://www.wearepublic.nl/event/pluk-de-nacht-buy-me-a-gun/', category=['Film'], location='Het Stenen Hoofd', city='Amsterdam'),\n",
       " WAPEvent(ID=75877, title='Buitenfilm | De Wilde Stad', day=21, month='aug', date=datetime.datetime(2018, 8, 21, 0, 0), price=0, bookable=False, url='https://www.wearepublic.nl/event/buitenfilm-de-wilde-stad/', category=['Film'], location='Natlab', city='Eindhoven'),\n",
       " WAPEvent(ID=75808, title='Pinokkio | Veenfabriek, La Compagnie du Tire-Laine (technische doorloop)', day=22, month='aug', date=datetime.datetime(2018, 8, 22, 0, 0), price=0, bookable=True, url='https://www.wearepublic.nl/event/pinokkio-veenfabriek-la-compagnie-du-tire-laine-technische-doorloop/', category=['Muziek', 'Theater'], location='Stadsgehoorzaal', city='Leiden'),\n",
       " WAPEvent(ID=73080, title='Abel', day=22, month='aug', date=datetime.datetime(2018, 8, 22, 0, 0), price=0, bookable=False, url='https://www.wearepublic.nl/event/abel-2/', category=['Film'], location='EYE', city='Amsterdam'),\n",
       " WAPEvent(ID=77922, title='Den skyldige (The Guilty)', day=22, month='aug', date=datetime.datetime(2018, 8, 22, 0, 0), price=0, bookable=False, url='https://www.wearepublic.nl/event/the-guilty-kijkhuis/', category=['Film'], location='Kijkhuis', city='Leiden'),\n",
       " WAPEvent(ID=75733, title='Back End | Dries Depoorter', day=23, month='aug', date=datetime.datetime(2018, 8, 23, 0, 0), price=0, bookable=False, url='https://www.wearepublic.nl/event/opening-back-end-dries-depoorter-6/', category=['Beeldende Kunst'], location='MU', city='Eindhoven'),\n",
       " WAPEvent(ID=77208, title='Liefdeskuren', day=23, month='aug', date=datetime.datetime(2018, 8, 23, 0, 0), price=0, bookable=False, url='https://www.wearepublic.nl/event/liefdeskuren/', category=['Luisteren', 'Muziek'], location='De Pier', city='Scheveningen'),\n",
       " WAPEvent(ID=75852, title='Waterboys', day=23, month='aug', date=datetime.datetime(2018, 8, 23, 0, 0), price=0, bookable=False, url='https://www.wearepublic.nl/event/waterboys/', category=['Film'], location='Kijkhuis', city='Leiden'),\n",
       " WAPEvent(ID=75507, title='Bios in de buitenlucht | Golden Dawn Girls', day=23, month='aug', date=datetime.datetime(2018, 8, 23, 0, 0), price=0, bookable=True, url='https://www.wearepublic.nl/event/bios-in-de-buitenlucht-golden-dawn-girls/', category=['Film'], location='Humanity House', city='Den Haag'),\n",
       " WAPEvent(ID=75771, title='Kleine zielen | Internationaal Theater Amsterdam', day=23, month='aug', date=datetime.datetime(2018, 8, 23, 0, 0), price=0, bookable=False, url='https://www.wearepublic.nl/event/kleine-zielen-internationaal-theater-amsterdam/', category=['Theater'], location='Internationaal Theater Amsterdam', city='Amsterdam'),\n",
       " WAPEvent(ID=75519, title='Jazz in de Gracht', day=23, month='aug', date=datetime.datetime(2018, 8, 23, 0, 0), price=0, bookable=False, url='https://www.wearepublic.nl/event/jazz-in-de-gracht-2018/', category=['Muziek'], location='Verschillende locaties in Den Haag', city='Diverse'),\n",
       " WAPEvent(ID=75885, title='Loveling', day=23, month='aug', date=datetime.datetime(2018, 8, 23, 0, 0), price=0, bookable=False, url='https://www.wearepublic.nl/event/loveling/', category=['Film'], location='EYE', city='Amsterdam'),\n",
       " WAPEvent(ID=77051, title='Kiki | Sunset Cinema | i.s.m. IDFA', day=23, month='aug', date=datetime.datetime(2018, 8, 23, 0, 0), price=0, bookable=True, url='https://www.wearepublic.nl/event/kiki-sunset-cinema/', category=['Film'], location='Tolhuistuin', city='Amsterdam'),\n",
       " WAPEvent(ID=75892, title='Charlie en Hannah gaan uit | Picl', day=23, month='aug', date=datetime.datetime(2018, 8, 23, 0, 0), price=0, bookable=False, url='https://www.wearepublic.nl/event/charlie-en-hannah-gaan-uit-picl/', category=['Film'], location='Bij jou thuis', city='Diverse'),\n",
       " WAPEvent(ID=75911, title='Buitenfilm | Django', day=24, month='aug', date=datetime.datetime(2018, 8, 24, 0, 0), price=0, bookable=False, url='https://www.wearepublic.nl/event/buitenfilm-django/', category=['Muziek'], location='Natlab', city='Eindhoven'),\n",
       " WAPEvent(ID=77661, title='The reports on Sarah and Saleem | Voorpremière | Q&A met regisseur', day=24, month='aug', date=datetime.datetime(2018, 8, 24, 0, 0), price=0, bookable=False, url='https://www.wearepublic.nl/event/the-reports-on-sarah-and-saleem-voorpremiere-qa-met-regisseur/', category=['Film'], location='FilmHallen', city='Amsterdam'),\n",
       " WAPEvent(ID=76058, title='The Living End', day=24, month='aug', date=datetime.datetime(2018, 8, 24, 0, 0), price=0, bookable=False, url='https://www.wearepublic.nl/event/the-living-end/', category=['Muziek'], location='Effenaar', city='Eindhoven'),\n",
       " WAPEvent(ID=75812, title='Pinokkio | Veenfabriek, La Compagnie du Tire-Laine (try-out)', day=24, month='aug', date=datetime.datetime(2018, 8, 24, 0, 0), price=0, bookable=True, url='https://www.wearepublic.nl/event/pinokkio-veenfabriek-la-compagnie-du-tire-laine-try-out/', category=['Muziek', 'Theater'], location='Stadsgehoorzaal', city='Leiden'),\n",
       " WAPEvent(ID=75917, title='Buitenfilm | C’est la vie', day=24, month='aug', date=datetime.datetime(2018, 8, 24, 0, 0), price=0, bookable=False, url='https://www.wearepublic.nl/event/buitenfilm-cest-la-vie/', category=['Film'], location='Verkadefabriek', city='Den Bosch'),\n",
       " WAPEvent(ID=75948, title='Rock ’n Grill | Balboa', day=24, month='aug', date=datetime.datetime(2018, 8, 24, 0, 0), price=0, bookable=False, url='https://www.wearepublic.nl/event/rock-n-grill-balboa/', category=['Muziek'], location='POPEI', city='Eindhoven'),\n",
       " WAPEvent(ID=76368, title='Kolenkit wandeling', day=24, month='aug', date=datetime.datetime(2018, 8, 24, 0, 0), price=0, bookable=True, url='https://www.wearepublic.nl/event/kolenkit-wandeling/', category=['Luisteren'], location='WOW Amsterdam', city='Amsterdam'),\n",
       " WAPEvent(ID=76376, title='Bijlmerbios | Wan pipel', day=24, month='aug', date=datetime.datetime(2018, 8, 24, 0, 0), price=0, bookable=False, url='https://www.wearepublic.nl/event/bijlmerbios-wan-pipel/', category=['Film'], location='Metrostation Kraaiennest', city='Diverse'),\n",
       " WAPEvent(ID=76139, title='King Tuff en Sasami', day=24, month='aug', date=datetime.datetime(2018, 8, 24, 0, 0), price=0, bookable=False, url='https://www.wearepublic.nl/event/king-tuff-en-sasami/', category=['Muziek'], location='Sugarfactory', city='Amsterdam'),\n",
       " WAPEvent(ID=75786, title='Summer of Laugh | Yentl en de Boer in concert', day=24, month='aug', date=datetime.datetime(2018, 8, 24, 0, 0), price=0, bookable=False, url='https://www.wearepublic.nl/event/summer-of-laugh-yentl-en-de-boer-in-concert/', category=['Muziek', 'Theater'], location='Zuiderparktheater', city='Den Haag'),\n",
       " WAPEvent(ID=77402, title='World Press Photo 2018', day=24, month='aug', date=datetime.datetime(2018, 8, 24, 0, 0), price=0, bookable=False, url='https://www.wearepublic.nl/event/world-press-photo-2018/', category=['Beeldende Kunst'], location='Museum Volkenkunde', city='Leiden'),\n",
       " WAPEvent(ID=76047, title='Into Nature | Drenthe', day=25, month='aug', date=datetime.datetime(2018, 8, 25, 0, 0), price=0, bookable=False, url='https://www.wearepublic.nl/event/into-nature/', category=['Beeldende Kunst'], location='Frederiksoord', city='Drenthe'),\n",
       " WAPEvent(ID=76076, title='Positief Reisadvies Noord Nederland | Een weekend lang op cultureel avontuur in Groningen en Drenthe', day=25, month='aug', date=datetime.datetime(2018, 8, 25, 0, 0), price=0, bookable=False, url='https://www.wearepublic.nl/event/positief-reisadvies-noord-nederland/', category=['Beeldende Kunst', 'Dans', 'Muziek', 'Theater'], location='Diverse locaties, Noord-Nederland', city='Diverse'),\n",
       " WAPEvent(ID=74834, title='Open Air Film Festival | Samsara', day=25, month='aug', date=datetime.datetime(2018, 8, 25, 0, 0), price=0, bookable=False, url='https://www.wearepublic.nl/event/open-air-film-festival-samsara/', category=['Film', 'Luisteren'], location='Het Nutshuis', city='Den Haag'),\n",
       " WAPEvent(ID=75965, title='Noorderzon |  Bruno Beltrão en Grupo de Rua | Inoah | Groningen', day=25, month='aug', date=datetime.datetime(2018, 8, 25, 0, 0), price=0, bookable=True, url='https://www.wearepublic.nl/event/noorderzon-bruno-beltrao-en-grupo-de-rua-inoah/', category=['Dans'], location='Grand Theatre', city='Groningen'),\n",
       " WAPEvent(ID=75977, title='Public Art Amsterdam | Kunstroute Zuidoost', day=25, month='aug', date=datetime.datetime(2018, 8, 25, 0, 0), price=0, bookable=False, url='https://www.wearepublic.nl/event/public-art-amsterdam-kunstroute-zuidoost/', category=['Beeldende Kunst'], location='Amsterdam Zuidoost', city='Unknown'),\n",
       " WAPEvent(ID=76382, title='One Thousand White Paper Cranes for Japan | AU Ensemble', day=25, month='aug', date=datetime.datetime(2018, 8, 25, 0, 0), price=0, bookable=False, url='https://www.wearepublic.nl/event/one-thousand-white-paper-cranes-for-japan-au-ensemble/', category=['Muziek'], location='Podium Mozaïek', city='Amsterdam'),\n",
       " WAPEvent(ID=75994, title='Festival The Brave', day=25, month='aug', date=datetime.datetime(2018, 8, 25, 0, 0), price=0, bookable=False, url='https://www.wearepublic.nl/event/festival-the-brave/', category=['Muziek'], location='Fruittuin van West', city='Amsterdam'),\n",
       " WAPEvent(ID=76147, title='Openluchtfilm | C’est la Vie', day=25, month='aug', date=datetime.datetime(2018, 8, 25, 0, 0), price=0, bookable=False, url='https://www.wearepublic.nl/event/openluchtfilm-cest-la-vie/', category=['Film'], location='Verkadefabriek', city='Den Bosch'),\n",
       " WAPEvent(ID=75869, title='Opening De Aleph | Jan de Bie', day=25, month='aug', date=datetime.datetime(2018, 8, 25, 0, 0), price=0, bookable=False, url='https://www.wearepublic.nl/event/opening-de-aleph-jan-de-bie/', category=['Beeldende Kunst'], location='Willem Twee Kunstruimte', city='Den Bosch'),\n",
       " WAPEvent(ID=74592, title='Symphony in the Park | Residentie Orkest', day=25, month='aug', date=datetime.datetime(2018, 8, 25, 0, 0), price=0, bookable=False, url='https://www.wearepublic.nl/event/symphony-in-the-park-residentie-orkest/', category=['Muziek'], location='Zuiderparktheater', city='Den Haag'),\n",
       " WAPEvent(ID=76364, title='Blind Walls Gallery Wandeltour', day=26, month='aug', date=datetime.datetime(2018, 8, 26, 0, 0), price=0, bookable=False, url='https://www.wearepublic.nl/event/blind-walls-gallery-wandeltour-9/', category=['Beeldende Kunst', 'Luisteren'], location='Parkeerterrein Mols', city='Breda'),\n",
       " WAPEvent(ID=77475, title='Top Shelf Sundays | Olivier Weiter, Alex Preda', day=26, month='aug', date=datetime.datetime(2018, 8, 26, 0, 0), price=0, bookable=False, url='https://www.wearepublic.nl/event/top-shelf-sundays-olivier-weiter-alex-preda/', category=['Muziek'], location='Bleyenberg', city='Den Haag'),\n",
       " WAPEvent(ID=76082, title='Jan de Bie | De Aleph', day=26, month='aug', date=datetime.datetime(2018, 8, 26, 0, 0), price=0, bookable=False, url='https://www.wearepublic.nl/event/jan-de-bie-de-aleph/', category=['Beeldende Kunst', 'Literatuur'], location='Willem Twee Kunstruimte', city='Den Bosch'),\n",
       " WAPEvent(ID=75104, title='Multicultureel vrouwen- en Raksha Bandhan festival', day=26, month='aug', date=datetime.datetime(2018, 8, 26, 0, 0), price=0, bookable=False, url='https://www.wearepublic.nl/event/multicultureel-vrouwen-en-raksha-bandhan-festival-muziekgroep-avishkar/', category=['Muziek'], location='Zuiderparktheater', city='Den Haag'),\n",
       " WAPEvent(ID=76388, title='Bijlmerbios | The Florida Project', day=26, month='aug', date=datetime.datetime(2018, 8, 26, 0, 0), price=0, bookable=False, url='https://www.wearepublic.nl/event/bijlmerbios-the-florida-project/', category=['Film'], location='Metrostation Kraaiennest', city='Diverse'),\n",
       " WAPEvent(ID=75110, title='Zomertransformaties | Transforming Shadows | Jamie Catto', day=26, month='aug', date=datetime.datetime(2018, 8, 26, 0, 0), price=0, bookable=False, url='https://www.wearepublic.nl/event/zomertransformaties-transforming-shadows-jamie-catto/', category=['Luisteren', 'Theater'], location='Theater De Generator', city='Leiden'),\n",
       " WAPEvent(ID=76549, title='Tussenland | PS|theater', day=26, month='aug', date=datetime.datetime(2018, 8, 26, 0, 0), price=0, bookable=True, url='https://www.wearepublic.nl/event/tussenland-pstheater-26-aug/', category=['Theater'], location='De Tuin van de smid in Polderpark Cronesteyn', city='Leiden'),\n",
       " WAPEvent(ID=76386, title='The Square | buitenbioscoop', day=26, month='aug', date=datetime.datetime(2018, 8, 26, 0, 0), price=0, bookable=True, url='https://www.wearepublic.nl/event/the-square-buitenbioscoop/', category=['Film'], location='Café BRET', city='Amsterdam'),\n",
       " WAPEvent(ID=77909, title='We Are Leiden | LISFE shorts', day=26, month='aug', date=datetime.datetime(2018, 8, 26, 0, 0), price=0, bookable=False, url='https://www.wearepublic.nl/event/we-are-leiden-lisfe-shorts/', category=['Beeldende Kunst', 'Film'], location='Kijkhuis', city='Leiden'),\n",
       " WAPEvent(ID=76032, title='Public Insight | Panorama Mesdag achter de schermen (uitverkocht)', day=26, month='aug', date=datetime.datetime(2018, 8, 26, 0, 0), price=0, bookable=True, url='https://www.wearepublic.nl/event/public-insight-panorama-mesdag-achter-de-schermen/', category=['Beeldende Kunst', 'Luisteren'], location='Panorama Mesdag', city='Den Haag'),\n",
       " WAPEvent(ID=77904, title='The Guilty', day=27, month='aug', date=datetime.datetime(2018, 8, 27, 0, 0), price=0, bookable=False, url='https://www.wearepublic.nl/event/the-guilty-2/', category=['Film'], location='Cacaofabriek', city='Helmond'),\n",
       " WAPEvent(ID=77932, title='Tegenlicht: Compassie als oplossing', day=28, month='aug', date=datetime.datetime(2018, 8, 28, 0, 0), price=0, bookable=False, url='https://www.wearepublic.nl/event/tegenlicht-compassie-als-oplossing/', category=[], location='Bibliotheek Den Bosch', city='Diverse'),\n",
       " WAPEvent(ID=76086, title='Buitenfilm: De Kinderen van Juf Kiet', day=28, month='aug', date=datetime.datetime(2018, 8, 28, 0, 0), price=0, bookable=False, url='https://www.wearepublic.nl/event/bios-in-de-buitenlucht-de-kinderen-van-juf-kiet-2/', category=['Film'], location='Natlab', city='Eindhoven'),\n",
       " WAPEvent(ID=76553, title='Tussenland | PS|theater', day=28, month='aug', date=datetime.datetime(2018, 8, 28, 0, 0), price=0, bookable=True, url='https://www.wearepublic.nl/event/tussenland-pstheater-28-aug/', category=['Theater'], location='De Tuin van de smid in Polderpark Cronesteyn', city='Leiden'),\n",
       " WAPEvent(ID=76000, title='Amsterdams spul | Harold Strak en Willem van Zoetendaal', day=28, month='aug', date=datetime.datetime(2018, 8, 28, 0, 0), price=0, bookable=False, url='https://www.wearepublic.nl/event/amsterdams-spul-harold-strak-en-willem-van-zoetendaal/', category=['Beeldende Kunst'], location='Huis Marseille', city='Amsterdam'),\n",
       " WAPEvent(ID=77218, title='Cirque Mania | Fase | Michiel Deprez, Pieter Visser', day=29, month='aug', date=datetime.datetime(2018, 8, 29, 0, 0), price=0, bookable=False, url='https://www.wearepublic.nl/event/cirque-mania-fase-michiel-deprez-pieter-visser/', category=['Dans'], location='Korzo', city='Den Haag'),\n",
       " WAPEvent(ID=75115, title='Camel | Moonmadness', day=29, month='aug', date=datetime.datetime(2018, 8, 29, 0, 0), price=0, bookable=True, url='https://www.wearepublic.nl/event/camel-moonmadness/', category=['Muziek'], location='Paard', city='Den Haag'),\n",
       " WAPEvent(ID=77939, title='Overwerk #14: Dadara', day=30, month='aug', date=datetime.datetime(2018, 8, 30, 0, 0), price=0, bookable=False, url='https://www.wearepublic.nl/event/overwerk-14-dadara/', category=['Beeldende Kunst', 'Luisteren'], location='Unknown', city='Unknown'),\n",
       " WAPEvent(ID=76096, title='Lazy Listeners | Het Spijt Me', day=30, month='aug', date=datetime.datetime(2018, 8, 30, 0, 0), price=0, bookable=True, url='https://www.wearepublic.nl/event/lazy-listeners-het-spijt-me/', category=['Literatuur'], location='Parktheater', city='Eindhoven'),\n",
       " WAPEvent(ID=75120, title='Bios in de buitenlucht | The Other Side of Everything', day=30, month='aug', date=datetime.datetime(2018, 8, 30, 0, 0), price=0, bookable=True, url='https://www.wearepublic.nl/event/bios-in-de-buitenlucht-the-other-side-of-everything/', category=['Film'], location='Humanity House', city='Den Haag'),\n",
       " WAPEvent(ID=76391, title='Boekpresentatie Vijf Eeuwen Migratie', day=30, month='aug', date=datetime.datetime(2018, 8, 30, 0, 0), price=0, bookable=False, url='https://www.wearepublic.nl/event/boekpresentatie-vijf-eeuwen-migratie/', category=['Luisteren'], location='Pakhuis de Zwijger', city='Amsterdam'),\n",
       " WAPEvent(ID=76007, title='The Apartment', day=30, month='aug', date=datetime.datetime(2018, 8, 30, 0, 0), price=0, bookable=False, url='https://www.wearepublic.nl/event/the-apartment/', category=['Film'], location='EYE', city='Amsterdam'),\n",
       " WAPEvent(ID=76173, title='BUTFF invites Surf & Turf', day=30, month='aug', date=datetime.datetime(2018, 8, 30, 0, 0), price=0, bookable=False, url='https://www.wearepublic.nl/event/butff-invites-surfturf/', category=['Muziek'], location='Nieuwe Veste', city='Breda'),\n",
       " WAPEvent(ID=76398, title='BUTFF | Black Metal Friday | Countess, Draugur', day=31, month='aug', date=datetime.datetime(2018, 8, 31, 0, 0), price=0, bookable=False, url='https://www.wearepublic.nl/event/butff-black-metal-friday-countess-draugur/', category=['Muziek'], location='Nieuwe Veste', city='Breda'),\n",
       " WAPEvent(ID=76419, title='Rock ’n Grill | Hypergoods', day=31, month='aug', date=datetime.datetime(2018, 8, 31, 0, 0), price=0, bookable=False, url='https://www.wearepublic.nl/event/rock-n-grill-hypergoods/', category=['Muziek'], location='POPEI', city='Eindhoven'),\n",
       " WAPEvent(ID=75776, title='300 EL x 50 EL x 30 EL | Toneelhuis / FC Bergman', day=31, month='aug', date=datetime.datetime(2018, 8, 31, 0, 0), price=0, bookable=False, url='https://www.wearepublic.nl/event/300-el-x-50-el-x-30-el-toneelhuis-fc-bergman/', category=['Theater'], location='Internationaal Theater Amsterdam', city='Amsterdam'),\n",
       " WAPEvent(ID=75132, title='Paard van stal', day=31, month='aug', date=datetime.datetime(2018, 8, 31, 0, 0), price=0, bookable=False, url='https://www.wearepublic.nl/event/paard-van-stal-2018/', category=['Muziek'], location='Paard', city='Den Haag'),\n",
       " WAPEvent(ID=76394, title='Samuel Gratacap | Les Invisibles', day=31, month='aug', date=datetime.datetime(2018, 8, 31, 0, 0), price=0, bookable=False, url='https://www.wearepublic.nl/event/samuel-gratacap-les-invisibles/', category=['Beeldende Kunst'], location='Foam', city='Amsterdam'),\n",
       " WAPEvent(ID=76761, title='Back End | Dries Depoorter', day=31, month='aug', date=datetime.datetime(2018, 8, 31, 0, 0), price=0, bookable=False, url='https://www.wearepublic.nl/event/opening-back-end-dries-depoorter-3-2-2/', category=['Beeldende Kunst'], location='MU', city='Eindhoven'),\n",
       " WAPEvent(ID=76198, title='Buitenfilm | The Square', day=31, month='aug', date=datetime.datetime(2018, 8, 31, 0, 0), price=0, bookable=False, url='https://www.wearepublic.nl/event/buitenfilm-the-square/', category=['Film'], location='Natlab', city='Eindhoven'),\n",
       " WAPEvent(ID=76424, title='Nøtel (The Hague) | Lawrence Lek, Kode9 (opening)', day=1, month='sep', date=datetime.datetime(2018, 9, 1, 0, 0), price=0, bookable=False, url='https://www.wearepublic.nl/event/notel-the-hague-lawrence-lek-kode9-opening/', category=['Beeldende Kunst'], location='Stroom', city='Den Haag'),\n",
       " WAPEvent(ID=76792, title='Icarus Festival', day=1, month='sep', date=datetime.datetime(2018, 9, 1, 0, 0), price=0, bookable=False, url='https://www.wearepublic.nl/event/icarus-festival-2/', category=['Literatuur', 'Muziek'], location='De Ceuvel', city='Amsterdam'),\n",
       " WAPEvent(ID=76452, title='Het Witte Gordijn', day=1, month='sep', date=datetime.datetime(2018, 9, 1, 0, 0), price=0, bookable=False, url='https://www.wearepublic.nl/event/het-witte-gordijn-2/', category=['Beeldende Kunst'], location='De Vishal', city='Haarlem'),\n",
       " WAPEvent(ID=75175, title='Tuinconcert | New European Ensemble', day=1, month='sep', date=datetime.datetime(2018, 9, 1, 0, 0), price=0, bookable=False, url='https://www.wearepublic.nl/event/tuinconcert-new-european-ensemble-1-sept/', category=['Muziek'], location='Het Nutshuis', city='Den Haag'),\n",
       " WAPEvent(ID=77915, title='Red Carpet Lounge | Opening Night', day=1, month='sep', date=datetime.datetime(2018, 9, 1, 0, 0), price=0, bookable=False, url='https://www.wearepublic.nl/event/red-carpet-lounge-opening-night/', category=['Beeldende Kunst', 'Film'], location='Red Carpet Lounge', city='Leiden'),\n",
       " WAPEvent(ID=76402, title='BUTFF | Pornovomitgore, Siren’s Carcass', day=1, month='sep', date=datetime.datetime(2018, 9, 1, 0, 0), price=0, bookable=False, url='https://www.wearepublic.nl/event/butff-pornovomitgore-sirens-carcass/', category=['Beeldende Kunst', 'Muziek'], location='Nieuwe Veste', city='Breda'),\n",
       " WAPEvent(ID=74008, title='Matangi Quartet XL', day=2, month='sep', date=datetime.datetime(2018, 9, 2, 0, 0), price=0, bookable=False, url='https://www.wearepublic.nl/event/matangi-quartet-xl/', category=[], location='Caprera Openluchttheater en wandelpark', city='Bloemendaal'),\n",
       " WAPEvent(ID=76457, title='Rondleiding Public Art Amsterdam | Noord', day=2, month='sep', date=datetime.datetime(2018, 9, 2, 0, 0), price=0, bookable=True, url='https://www.wearepublic.nl/event/rondleiding-public-art-amsterdam-noord/', category=['Beeldende Kunst'], location='Framer Framed', city='Amsterdam'),\n",
       " WAPEvent(ID=76556, title='Tussenland | PS|theater', day=2, month='sep', date=datetime.datetime(2018, 9, 2, 0, 0), price=0, bookable=True, url='https://www.wearepublic.nl/event/tussenland-pstheater-2-sep/', category=['Theater'], location='De Tuin van de smid in Polderpark Cronesteyn', city='Leiden'),\n",
       " WAPEvent(ID=76766, title='Hybrids', day=2, month='sep', date=datetime.datetime(2018, 9, 2, 0, 0), price=0, bookable=False, url='https://www.wearepublic.nl/event/hybrids-3-3/', category=['Beeldende Kunst'], location='Lustwarande', city='Tilburg'),\n",
       " WAPEvent(ID=76410, title='BUTFF | Kate and Leopolt, The Bucket Boyz', day=2, month='sep', date=datetime.datetime(2018, 9, 2, 0, 0), price=0, bookable=False, url='https://www.wearepublic.nl/event/butff-kate-and-leopolt-the-bucket-boyz/', category=['Muziek'], location='Nieuwe Veste', city='Breda'),\n",
       " WAPEvent(ID=76491, title='AFGELAST | Woodshock', day=3, month='sep', date=datetime.datetime(2018, 9, 3, 0, 0), price=0, bookable=False, url='https://www.wearepublic.nl/event/woodshock/', category=['Film'], location='Filmschuur', city='Haarlem'),\n",
       " WAPEvent(ID=77224, title='Het Witte Gordijn', day=4, month='sep', date=datetime.datetime(2018, 9, 4, 0, 0), price=0, bookable=False, url='https://www.wearepublic.nl/event/het-witte-gordijn/', category=['Beeldende Kunst'], location='De Vishal', city='Haarlem'),\n",
       " WAPEvent(ID=76496, title='Dogman', day=6, month='sep', date=datetime.datetime(2018, 9, 6, 0, 0), price=0, bookable=False, url='https://www.wearepublic.nl/event/dogman/', category=['Film'], location='Filmschuur', city='Haarlem'),\n",
       " WAPEvent(ID=72556, title='De Meeuw | Amsterdamse Bostheater / Noord Nederlands Toneel', day=6, month='sep', date=datetime.datetime(2018, 9, 6, 0, 0), price=0, bookable=True, url='https://www.wearepublic.nl/event/de-meeuw-amsterdamse-bostheater-noord-nederlands-toneel-2/', category=['Theater'], location='Amsterdamse Bostheater', city='Amsterdam'),\n",
       " WAPEvent(ID=76442, title='Me, Peer Gynt | Tomoko Mukaiyama, Maya Fridman', day=6, month='sep', date=datetime.datetime(2018, 9, 6, 0, 0), price=0, bookable=False, url='https://www.wearepublic.nl/event/me-peer-gynt-tomoko-mukaiyama-maya-fridman/', category=['Muziek'], location='Korzo', city='Den Haag'),\n",
       " WAPEvent(ID=77017, title='Fringe Festival | Bert Williams versus Gavin-Viano | Gavin-Viano', day=6, month='sep', date=datetime.datetime(2018, 9, 6, 0, 0), price=0, bookable=True, url='https://www.wearepublic.nl/event/fringe-festival-bert-williams-versus-gavin-viano-gavin-viano/', category=['Theater'], location='Supperclub', city='Amsterdam'),\n",
       " WAPEvent(ID=76464, title='Sarah Jeffery', day=6, month='sep', date=datetime.datetime(2018, 9, 6, 0, 0), price=0, bookable=False, url='https://www.wearepublic.nl/event/sarah-jeffery/', category=['Muziek'], location='Splendor', city='Amsterdam'),\n",
       " WAPEvent(ID=76468, title='Indie in Town | o.a. Korfbal', day=6, month='sep', date=datetime.datetime(2018, 9, 6, 0, 0), price=0, bookable=False, url='https://www.wearepublic.nl/event/indie-in-town-o-a-korfbal/', category=['Muziek'], location='Sugarfactory', city='Amsterdam'),\n",
       " WAPEvent(ID=77411, title='Archie And The Bunkers', day=6, month='sep', date=datetime.datetime(2018, 9, 6, 0, 0), price=0, bookable=False, url='https://www.wearepublic.nl/event/archie-and-the-bunkers/', category=['Muziek'], location='Patronaat', city='Haarlem'),\n",
       " WAPEvent(ID=76770, title='Back End | Dries Depoorter', day=7, month='sep', date=datetime.datetime(2018, 9, 7, 0, 0), price=0, bookable=False, url='https://www.wearepublic.nl/event/opening-back-end-dries-depoorter-3-2-3/', category=['Beeldende Kunst'], location='MU', city='Eindhoven'),\n",
       " WAPEvent(ID=77878, title='Opening Selected | Gerrit Rietveld Academie Awards Show 2018', day=7, month='sep', date=datetime.datetime(2018, 9, 7, 0, 0), price=0, bookable=False, url='https://www.wearepublic.nl/event/opening-selected-gerrit-rietveld-academie-awards-show-2018/', category=['Beeldende Kunst'], location='Looiersgracht 60', city='Amsterdam'),\n",
       " WAPEvent(ID=78047, title='Stuck | Theatergroep Hardt', day=7, month='sep', date=datetime.datetime(2018, 9, 7, 0, 0), price=0, bookable=False, url='https://www.wearepublic.nl/event/stuck-theatergroep-hardt-7-sep/', category=['Theater'], location='Red Carpet Lounge', city='Leiden'),\n",
       " WAPEvent(ID=76449, title='Vliegboot Moederschip | Hotel Modern', day=7, month='sep', date=datetime.datetime(2018, 9, 7, 0, 0), price=0, bookable=False, url='https://www.wearepublic.nl/event/vliegboot-moederschip-hotel-modern-korzo/', category=['Theater'], location='Korzo', city='Den Haag'),\n",
       " WAPEvent(ID=76483, title='Opening We are gods and might as well get good at it', day=7, month='sep', date=datetime.datetime(2018, 9, 7, 0, 0), price=0, bookable=False, url='https://www.wearepublic.nl/event/opening-we-are-gods-and-might-as-well-get-good-at-it/', category=['Beeldende Kunst'], location='Nieuwe Vide', city='Haarlem'),\n",
       " WAPEvent(ID=77424, title='Silence | Claire M Singer, Jacob Lekkerkerker', day=7, month='sep', date=datetime.datetime(2018, 9, 7, 0, 0), price=0, bookable=False, url='https://www.wearepublic.nl/event/silence-claire-m-singer-jacob-lekkerkerker/', category=['Muziek'], location='Oude Kerk, Amsterdam', city='Diverse'),\n",
       " WAPEvent(ID=77073, title='De Binocle', day=8, month='sep', date=datetime.datetime(2018, 9, 8, 0, 0), price=0, bookable=False, url='https://www.wearepublic.nl/event/de-binocle/', category=['Film'], location='Trianon', city='Leiden'),\n",
       " WAPEvent(ID=76500, title='Rabot', day=8, month='sep', date=datetime.datetime(2018, 9, 8, 0, 0), price=0, bookable=False, url='https://www.wearepublic.nl/event/rabot/', category=['Film'], location='Filmschuur', city='Haarlem'),\n",
       " WAPEvent(ID=76504, title='Fringe Festival | Die Welt in der wir leben | Katelijne Beukema & Kajetan Uranitsch', day=8, month='sep', date=datetime.datetime(2018, 9, 8, 0, 0), price=0, bookable=True, url='https://www.wearepublic.nl/event/fringe-festival-die-welt-in-der-wir-leben-katelijne-beukema-kajetan-uranitsch/', category=['Theater'], location='Café Belcampo', city='Amsterdam'),\n",
       " WAPEvent(ID=77497, title='Seizoensopening', day=8, month='sep', date=datetime.datetime(2018, 9, 8, 0, 0), price=0, bookable=False, url='https://www.wearepublic.nl/event/seizoensopening/', category=['Theater'], location='De NWE Vorst', city='Tilburg'),\n",
       " WAPEvent(ID=76632, title='Popmonument', day=8, month='sep', date=datetime.datetime(2018, 9, 8, 0, 0), price=0, bookable=True, url='https://www.wearepublic.nl/event/popmonument/', category=['Muziek'], location='Diverse locaties, Brabant', city='Diverse'),\n",
       " WAPEvent(ID=76581, title='DCR Pleinfestival', day=8, month='sep', date=datetime.datetime(2018, 9, 8, 0, 0), price=0, bookable=False, url='https://www.wearepublic.nl/event/dcr-pleinfestival-2018/', category=['Beeldende Kunst', 'Dans', 'Luisteren', 'Muziek', 'Theater'], location='DCR', city='Den Haag'),\n",
       " WAPEvent(ID=75796, title='Tuinconcert | New European Ensemble', day=8, month='sep', date=datetime.datetime(2018, 9, 8, 0, 0), price=0, bookable=False, url='https://www.wearepublic.nl/event/tuinconcert-new-european-ensemble-8-sept/', category=['Muziek'], location='Het Nutshuis', city='Den Haag'),\n",
       " WAPEvent(ID=77066, title='Finissage Vormaliteit | Kevin Bauer', day=9, month='sep', date=datetime.datetime(2018, 9, 9, 0, 0), price=0, bookable=False, url='https://www.wearepublic.nl/event/finissage-vormaliteit-kevin-bauer/', category=['Beeldende Kunst'], location='37PK', city='Haarlem'),\n",
       " WAPEvent(ID=78051, title='Stuck | Theatergroep Hardt', day=9, month='sep', date=datetime.datetime(2018, 9, 9, 0, 0), price=0, bookable=False, url='https://www.wearepublic.nl/event/stuck-theatergroep-hardt-9-sep/', category=['Theater'], location='Red Carpet Lounge', city='Leiden'),\n",
       " WAPEvent(ID=76583, title='Fringe Festival | Narcissus Complex | Franzisca Menge', day=9, month='sep', date=datetime.datetime(2018, 9, 9, 0, 0), price=0, bookable=True, url='https://www.wearepublic.nl/event/fringe-festival-narcissus-complex-franzisca-menge/', category=['Dans'], location='Dansmakers Podium', city='Amsterdam'),\n",
       " WAPEvent(ID=76600, title='DisasterLicious | YoungGangsters', day=12, month='sep', date=datetime.datetime(2018, 9, 12, 0, 0), price=0, bookable=False, url='https://www.wearepublic.nl/event/disasterlicious-younggangsters-spuiplein/', category=['Theater'], location='Spuiplein', city='Den Haag'),\n",
       " WAPEvent(ID=77505, title='Studio presentatie', day=12, month='sep', date=datetime.datetime(2018, 9, 12, 0, 0), price=0, bookable=False, url='https://www.wearepublic.nl/event/studio-presentatie/', category=['Muziek'], location='Willem Twee Concertzaal', city='Den Bosch'),\n",
       " WAPEvent(ID=77896, title='Koos Breukel, Stacii Samidin | Dutch Masters', day=12, month='sep', date=datetime.datetime(2018, 9, 12, 0, 0), price=0, bookable=False, url='https://www.wearepublic.nl/event/koos-breukel-stacii-samidin-dutch-masters/', category=['Beeldende Kunst', 'Luisteren'], location='Pakhuis de Zwijger', city='Amsterdam'),\n",
       " WAPEvent(ID=74013, title='Vliegboot Moederschip | Hotel Modern', day=12, month='sep', date=datetime.datetime(2018, 9, 12, 0, 0), price=0, bookable=False, url='https://www.wearepublic.nl/event/vliegboot-moederschip-hotel-modern/', category=['Theater'], location='Toneelschuur', city='Haarlem'),\n",
       " WAPEvent(ID=76591, title='Public Insight | Jan Giesen | Werken aan Scheveningen | Panorama Mesdag', day=12, month='sep', date=datetime.datetime(2018, 9, 12, 0, 0), price=0, bookable=True, url='https://www.wearepublic.nl/event/public-insight-jan-giesen-werken-aan-scheveningen/', category=['Beeldende Kunst', 'Luisteren'], location='Panorama Mesdag', city='Den Haag'),\n",
       " WAPEvent(ID=76609, title='Nicole Lizée | Film and Music | Oerknal', day=13, month='sep', date=datetime.datetime(2018, 9, 13, 0, 0), price=0, bookable=False, url='https://www.wearepublic.nl/event/nicole-lizee-film-and-music-oerknal/', category=['Muziek'], location='Korzo', city='Den Haag'),\n",
       " WAPEvent(ID=77886, title='One Flew Over the Cuckoo’s Nest', day=13, month='sep', date=datetime.datetime(2018, 9, 13, 0, 0), price=0, bookable=False, url='https://www.wearepublic.nl/event/one-flew-over-the-cuckoos-nest/', category=['Film'], location='Museum het Dolhuys', city='Haarlem'),\n",
       " WAPEvent(ID=77513, title='Into The Wild', day=13, month='sep', date=datetime.datetime(2018, 9, 13, 0, 0), price=0, bookable=False, url='https://www.wearepublic.nl/event/into-the-wild/', category=['Film'], location='Caprera Openluchttheater en wandelpark', city='Bloemendaal'),\n",
       " WAPEvent(ID=77587, title='Gallowstreet | on the beach', day=13, month='sep', date=datetime.datetime(2018, 9, 13, 0, 0), price=0, bookable=False, url='https://www.wearepublic.nl/event/gallowstreet-on-the-beach/', category=['Muziek'], location='Rapa Nui', city='Zandvoort'),\n",
       " WAPEvent(ID=76752, title='Frenzy', day=13, month='sep', date=datetime.datetime(2018, 9, 13, 0, 0), price=0, bookable=False, url='https://www.wearepublic.nl/event/frenzy/', category=['Film'], location='Lab 111', city='Amsterdam'),\n",
       " WAPEvent(ID=75802, title='Pinokkio | De Veenfabriek i.s.m. La Compagnie du Tire-Laine', day=13, month='sep', date=datetime.datetime(2018, 9, 13, 0, 0), price=0, bookable=True, url='https://www.wearepublic.nl/event/pinokkio-de-veenfabriek-i-s-m-la-compagnie-du-tire-laine-2/', category=['Theater'], location='Het Amsterdamse Bostheater', city='Amstelveen'),\n",
       " WAPEvent(ID=76777, title='Back End | Dries Depoorter', day=14, month='sep', date=datetime.datetime(2018, 9, 14, 0, 0), price=0, bookable=False, url='https://www.wearepublic.nl/event/opening-back-end-dries-depoorter-3-3/', category=['Beeldende Kunst'], location='MU', city='Eindhoven'),\n",
       " WAPEvent(ID=76618, title='Fringe Festival | De zilveren draad | Gita Hacham', day=14, month='sep', date=datetime.datetime(2018, 9, 14, 0, 0), price=0, bookable=True, url='https://www.wearepublic.nl/event/fringe-festival-de-zilveren-draad-gita-hacham/', category=['Theater'], location='Oostblok', city='Amsterdam'),\n",
       " WAPEvent(ID=77083, title='Muhammad | Ikarai', day=14, month='sep', date=datetime.datetime(2018, 9, 14, 0, 0), price=0, bookable=False, url='https://www.wearepublic.nl/event/muhammad-ikarai/', category=['Muziek'], location='Bimhuis', city='Amsterdam'),\n",
       " WAPEvent(ID=76628, title='Fringe Festival | Emotional Porn | Keren Rosenberg & Tony Markus Sacharias', day=14, month='sep', date=datetime.datetime(2018, 9, 14, 0, 0), price=0, bookable=True, url='https://www.wearepublic.nl/event/fringe-festival-emotional-porn-keren-rosenberg-tony-markus-sacharias/', category=['Dans'], location='Dansmakers Podium', city='Amsterdam'),\n",
       " WAPEvent(ID=77581, title='Nacht van de Dictatuur | Literatuur Late Night, B-Unlimited | Frank Westerman, Mira Feticu', day=14, month='sep', date=datetime.datetime(2018, 9, 14, 0, 0), price=0, bookable=False, url='https://www.wearepublic.nl/event/nacht-van-de-dictatuur-2018-literatuur-late-night/', category=['Literatuur', 'Luisteren'], location='Centrale Bibliotheek', city='Den Haag'),\n",
       " WAPEvent(ID=74017, title='De Ur-Triënnale 2018 | Urland / Theater Rotterdam', day=14, month='sep', date=datetime.datetime(2018, 9, 14, 0, 0), price=0, bookable=False, url='https://www.wearepublic.nl/event/de-ur-triennale-2018-urland-theater-rotterdam/', category=['Theater'], location='Toneelschuur', city='Haarlem'),\n",
       " WAPEvent(ID=77891, title='Maria by Callas', day=15, month='sep', date=datetime.datetime(2018, 9, 15, 0, 0), price=0, bookable=False, url='https://www.wearepublic.nl/event/maria-by-callas/', category=['Film'], location='Filmschuur', city='Haarlem'),\n",
       " WAPEvent(ID=77124, title='Sepideh Raissadat Trio', day=15, month='sep', date=datetime.datetime(2018, 9, 15, 0, 0), price=0, bookable=False, url='https://www.wearepublic.nl/event/sepideh-raissadat-trio/', category=['Muziek'], location='Muziekhuis (Qbus)', city='Leiden'),\n",
       " WAPEvent(ID=76636, title='Fringe Festival | Rewind | Soulshine Connection', day=15, month='sep', date=datetime.datetime(2018, 9, 15, 0, 0), price=0, bookable=True, url='https://www.wearepublic.nl/event/fringe-festival-rewind-soulshine-connection/', category=['Theater'], location='Theater Bellevue', city='Amsterdam'),\n",
       " WAPEvent(ID=76651, title='AVO J-Music Festival', day=15, month='sep', date=datetime.datetime(2018, 9, 15, 0, 0), price=0, bookable=False, url='https://www.wearepublic.nl/event/avo-j-music-festival/', category=['Muziek'], location='Zuiderparktheater', city='Den Haag'),\n",
       " WAPEvent(ID=76781, title='Hybrids', day=16, month='sep', date=datetime.datetime(2018, 9, 16, 0, 0), price=0, bookable=False, url='https://www.wearepublic.nl/event/hybrids-3-5/', category=['Beeldende Kunst'], location='Lustwarande', city='Tilburg'),\n",
       " WAPEvent(ID=77128, title='Fringe Festival | Song of the Sisters | King Sisters', day=16, month='sep', date=datetime.datetime(2018, 9, 16, 0, 0), price=0, bookable=True, url='https://www.wearepublic.nl/event/fringe-festival-song-of-the-sisters-king-sisters/', category=['Theater'], location='Dokzaal', city='Amsterdam'),\n",
       " WAPEvent(ID=76657, title='Rake taal | Over emotie tijdens taalbegrip', day=16, month='sep', date=datetime.datetime(2018, 9, 16, 0, 0), price=0, bookable=False, url='https://www.wearepublic.nl/event/rake-taal-over-emotie-tijdens-taalbegrip/', category=['Luisteren'], location='Paradiso', city='Amsterdam'),\n",
       " WAPEvent(ID=76692, title='De Schoonheidssalon | Bloody Hormones', day=17, month='sep', date=datetime.datetime(2018, 9, 17, 0, 0), price=0, bookable=True, url='https://www.wearepublic.nl/event/de-schoonheidssalon-bloody-hormones/', category=['Luisteren'], location='De Rode Hoed', city='Amsterdam'),\n",
       " WAPEvent(ID=76662, title='Giovanni’s Room | Ryan Djojokarso / Korzo', day=18, month='sep', date=datetime.datetime(2018, 9, 18, 0, 0), price=0, bookable=False, url='https://www.wearepublic.nl/event/giovannis-room-ryan-djojokarso-korzo/', category=['Dans'], location='Toneelschuur', city='Haarlem'),\n",
       " WAPEvent(ID=77092, title='All Inclusive | Julian Hetzel', day=19, month='sep', date=datetime.datetime(2018, 9, 19, 0, 0), price=0, bookable=False, url='https://www.wearepublic.nl/event/all-inclusive-julian-hetzel/', category=['Theater'], location='Frascati', city='Amsterdam'),\n",
       " WAPEvent(ID=76716, title='Dvořák | Zemlinsky Kwartet', day=19, month='sep', date=datetime.datetime(2018, 9, 19, 0, 0), price=0, bookable=False, url='https://www.wearepublic.nl/event/dvorak-zemlinsky-kwartet/', category=['Muziek'], location='Het Concertgebouw', city='Amsterdam'),\n",
       " WAPEvent(ID=76807, title='King Lear | Toneelgroep Maastricht', day=19, month='sep', date=datetime.datetime(2018, 9, 19, 0, 0), price=0, bookable=False, url='https://www.wearepublic.nl/event/king-lear-2/', category=['Theater', 'Highlight'], location='Leidse Schouwburg', city='Leiden'),\n",
       " WAPEvent(ID=76813, title='The Gentle Woman | Mugmetdegoudentand, Frascati Producties', day=19, month='sep', date=datetime.datetime(2018, 9, 19, 0, 0), price=0, bookable=False, url='https://www.wearepublic.nl/event/the-gentle-woman-mugmetdegoudentand-frascati-producties/', category=['Theater'], location='Theater aan het Spui', city='Den Haag'),\n",
       " WAPEvent(ID=76837, title='Symfonie no. 5 & no. 6 | Beethoven | Nieuwe Philharmonie, Johannes Leertouwer', day=19, month='sep', date=datetime.datetime(2018, 9, 19, 0, 0), price=0, bookable=False, url='https://www.wearepublic.nl/event/symfonie-no-5-no-6-beethoven-nieuwe-philharmonie-johannes-leertouwer/', category=['Muziek'], location='Stadsgehoorzaal', city='Leiden'),\n",
       " WAPEvent(ID=76799, title='La voix humaine | Internationaal Theater Amsterdam', day=20, month='sep', date=datetime.datetime(2018, 9, 20, 0, 0), price=0, bookable=False, url='https://www.wearepublic.nl/event/32368-2/', category=['Theater'], location='Internationaal Theater Amsterdam', city='Amsterdam'),\n",
       " WAPEvent(ID=76988, title='Dries Depoorter | Back End | Memefest', day=20, month='sep', date=datetime.datetime(2018, 9, 20, 0, 0), price=0, bookable=False, url='https://www.wearepublic.nl/event/dries-depoorter-back-end-memefest/', category=['Beeldende Kunst'], location='MU', city='Eindhoven'),\n",
       " WAPEvent(ID=76821, title='Danslokaal 6 On Tour | Dunja Jocic, Ingrid Berger Myhre, Tu Hoang | Conny Janssen Danst', day=20, month='sep', date=datetime.datetime(2018, 9, 20, 0, 0), price=0, bookable=False, url='https://www.wearepublic.nl/event/danslokaal-6-on-tour-dunja-jocic-ingrid-berger-myhre-tu-hoang-conny-janssen-danst-2/', category=['Dans'], location='Korzo', city='Den Haag'),\n",
       " WAPEvent(ID=76670, title='Ann Demeester | Klein Caprera', day=20, month='sep', date=datetime.datetime(2018, 9, 20, 0, 0), price=0, bookable=False, url='https://www.wearepublic.nl/event/ann-demeester-klein-caprera/', category=['Luisteren'], location='Caprera Openluchttheater en wandelpark', city='Bloemendaal'),\n",
       " WAPEvent(ID=76668, title='Orkater | De Vrouw', day=20, month='sep', date=datetime.datetime(2018, 9, 20, 0, 0), price=0, bookable=False, url='https://www.wearepublic.nl/event/orkater-de-vrouw/', category=['Theater'], location='De NWE Vorst', city='Tilburg'),\n",
       " WAPEvent(ID=77851, title='Jungle by Night', day=21, month='sep', date=datetime.datetime(2018, 9, 21, 0, 0), price=0, bookable=False, url='https://www.wearepublic.nl/event/jungle-by-night-2/', category=['Muziek'], location='Caprera Openluchttheater en wandelpark', city='Bloemendaal'),\n",
       " WAPEvent(ID=76693, title='Back End | Dries Depoorter', day=21, month='sep', date=datetime.datetime(2018, 9, 21, 0, 0), price=0, bookable=False, url='https://www.wearepublic.nl/event/opening-back-end-dries-depoorter-3/', category=['Beeldende Kunst'], location='MU', city='Eindhoven'),\n",
       " WAPEvent(ID=77138, title='Pinokkio | De Veenfabriek, La Compagnie du Tire-Laine', day=21, month='sep', date=datetime.datetime(2018, 9, 21, 0, 0), price=0, bookable=False, url='https://www.wearepublic.nl/event/pinokkio-de-veenfabriek-ks/', category=['Muziek', 'Theater'], location='Koninklijke Schouwburg', city='Den Haag'),\n",
       " WAPEvent(ID=76862, title='Brahms | Amsterdam Sinfonietta solisten, Alasdair Beatson', day=21, month='sep', date=datetime.datetime(2018, 9, 21, 0, 0), price=0, bookable=False, url='https://www.wearepublic.nl/event/brahms-amsterdam-sinfonietta-solisten-alasdair-beatson/', category=['Muziek'], location='Het Concertgebouw', city='Amsterdam'),\n",
       " WAPEvent(ID=77049, title='Artist in Residence: Aart Strootman', day=21, month='sep', date=datetime.datetime(2018, 9, 21, 0, 0), price=0, bookable=False, url='https://www.wearepublic.nl/event/artist-in-residence-aart-strootman/', category=['Muziek'], location='Theaters Tilburg', city='Tilburg'),\n",
       " WAPEvent(ID=76877, title='Living the Light', day=22, month='sep', date=datetime.datetime(2018, 9, 22, 0, 0), price=0, bookable=False, url='https://www.wearepublic.nl/event/living-the-light/', category=['Film'], location='Filmschuur', city='Haarlem'),\n",
       " WAPEvent(ID=77602, title='Danslokaal 6 | Conny Janssen Danst', day=22, month='sep', date=datetime.datetime(2018, 9, 22, 0, 0), price=0, bookable=False, url='https://www.wearepublic.nl/event/danslokaal-6-on-tour-dunja-jocic-ingrid-berger-myhre-tu-hoang-conny-janssen-danst/', category=['Dans'], location='Theater Bellevue', city='Amsterdam'),\n",
       " WAPEvent(ID=76903, title='De Vrouw | Orkater / Lars Doberman', day=23, month='sep', date=datetime.datetime(2018, 9, 23, 0, 0), price=0, bookable=False, url='https://www.wearepublic.nl/event/de-vrouw-orkater-lars-doberman-2/', category=['Theater'], location='De Meervaart', city='Amsterdam'),\n",
       " WAPEvent(ID=76909, title='Rear Window', day=23, month='sep', date=datetime.datetime(2018, 9, 23, 0, 0), price=0, bookable=False, url='https://www.wearepublic.nl/event/rear-window/', category=['Film'], location='Lab 111', city='Amsterdam'),\n",
       " WAPEvent(ID=76699, title='Finissage Hybrids', day=23, month='sep', date=datetime.datetime(2018, 9, 23, 0, 0), price=0, bookable=False, url='https://www.wearepublic.nl/event/hybrids-3-4/', category=['Beeldende Kunst'], location='Lustwarande', city='Tilburg'),\n",
       " WAPEvent(ID=77637, title='Pity', day=24, month='sep', date=datetime.datetime(2018, 9, 24, 0, 0), price=0, bookable=False, url='https://www.wearepublic.nl/event/pity/', category=['Film'], location='Filmschuur', city='Haarlem'),\n",
       " WAPEvent(ID=77163, title='Filosofisch Diner | Overdaad', day=25, month='sep', date=datetime.datetime(2018, 9, 25, 0, 0), price=12.5, bookable=False, url='https://www.wearepublic.nl/event/filosofisch-diner-overdaad/', category=['Luisteren'], location='Robin Food', city='Amsterdam'),\n",
       " WAPEvent(ID=76844, title='Vaudeville III | Theatertroep', day=25, month='sep', date=datetime.datetime(2018, 9, 25, 0, 0), price=0, bookable=False, url='https://www.wearepublic.nl/event/vaudeville-iii-theatertroep/', category=['Theater'], location='Zaal 3', city='Den Haag'),\n",
       " WAPEvent(ID=76729, title='Smederij Cinema | Gaza Surf Club', day=27, month='sep', date=datetime.datetime(2018, 9, 27, 0, 0), price=0, bookable=True, url='https://www.wearepublic.nl/event/smederij-cinema-gaza-surf-club/', category=['Film'], location='Club Smederij', city='Tilburg'),\n",
       " WAPEvent(ID=77158, title='De vloer op | Peter de Baan', day=27, month='sep', date=datetime.datetime(2018, 9, 27, 0, 0), price=0, bookable=False, url='https://www.wearepublic.nl/event/de-vloer-op-27-sep/', category=['Theater'], location='Leidse Schouwburg', city='Leiden'),\n",
       " WAPEvent(ID=77143, title='Okkervil River', day=28, month='sep', date=datetime.datetime(2018, 9, 28, 0, 0), price=0, bookable=False, url='https://www.wearepublic.nl/event/okkervil-river/', category=['Muziek'], location='Sugarfactory', city='Amsterdam'),\n",
       " WAPEvent(ID=76680, title='Headroom | Theater Rotterdam / Eric Whien / Boogaerdt/Vanderschoot', day=29, month='sep', date=datetime.datetime(2018, 9, 29, 0, 0), price=0, bookable=False, url='https://www.wearepublic.nl/event/headroom-theater-rotterdam-eric-whien-boogaerdt-vanderschoot/', category=['Theater'], location='Toneelschuur', city='Haarlem'),\n",
       " WAPEvent(ID=77228, title='Heropera, untold tales of gynoid heroines | Trickster', day=29, month='sep', date=datetime.datetime(2018, 9, 29, 0, 0), price=0, bookable=False, url='https://www.wearepublic.nl/event/heropera-untold-tales-of-gynoid-heroines-trickster/', category=['Muziek', 'Theater'], location='Zaal 3', city='Den Haag'),\n",
       " WAPEvent(ID=77249, title='Caccini en Piccinini | La Sfera Armoniosa & Henk Neven', day=29, month='sep', date=datetime.datetime(2018, 9, 29, 0, 0), price=0, bookable=False, url='https://www.wearepublic.nl/event/caccini-en-piccinini-la-sfera-armoniosa-henk-neven/', category=['Muziek'], location='Het Concertgebouw', city='Amsterdam'),\n",
       " WAPEvent(ID=76748, title='Eindhoven Maker Faire', day=29, month='sep', date=datetime.datetime(2018, 9, 29, 0, 0), price=0, bookable=False, url='https://www.wearepublic.nl/event/eindhoven-maker-faire-2/', category=['Beeldende Kunst'], location='Klokgebouw', city='Eindhoven'),\n",
       " WAPEvent(ID=77154, title='As You Like It', day=29, month='sep', date=datetime.datetime(2018, 9, 29, 0, 0), price=0, bookable=False, url='https://www.wearepublic.nl/event/as-you-like-it/', category=['Theater'], location='Annatheater', city='Helmond'),\n",
       " WAPEvent(ID=77256, title='As You Like It', day=30, month='sep', date=datetime.datetime(2018, 9, 30, 0, 0), price=0, bookable=False, url='https://www.wearepublic.nl/event/as-you-like-it-2/', category=['Theater'], location='Annatheater', city='Helmond'),\n",
       " WAPEvent(ID=77259, title='Literair Café | Marieke Lucas Rijneveld', day=30, month='sep', date=datetime.datetime(2018, 9, 30, 0, 0), price=0, bookable=False, url='https://www.wearepublic.nl/event/literair-cafe-marieke-lucas-rijneveld/', category=['Literatuur'], location='Bibliotheek Dommeldal', city='Geldrop'),\n",
       " WAPEvent(ID=76786, title='Blind Walls Gallery Wandeltour', day=30, month='sep', date=datetime.datetime(2018, 9, 30, 0, 0), price=0, bookable=False, url='https://www.wearepublic.nl/event/blind-walls-gallery-wandeltour-10/', category=['Beeldende Kunst', 'Luisteren'], location='Parkeerterrein Mols', city='Breda')]"
      ]
     },
     "execution_count": 8,
     "metadata": {},
     "output_type": "execute_result"
    }
   ],
   "source": [
    "[ e.tuple for e in wap ]"
   ]
  },
  {
   "cell_type": "code",
   "execution_count": 9,
   "metadata": {},
   "outputs": [
    {
     "data": {
      "text/plain": [
       "'https://www.wearepublic.nl/wp-content/uploads/2018/05/Born-at-Night-Kazerne-Eindhoven-1-1024x768-1-720x540.jpg'"
      ]
     },
     "execution_count": 9,
     "metadata": {},
     "output_type": "execute_result"
    }
   ],
   "source": [
    "wap.events[0].data['thumbnail']['event'].split('\"')[1]"
   ]
  },
  {
   "cell_type": "code",
   "execution_count": 10,
   "metadata": {},
   "outputs": [],
   "source": [
    "import datetime\n",
    "\n",
    "yesterday = datetime.datetime.today() -  datetime.timedelta(1)\n",
    "today = datetime.datetime.today()\n",
    "\n",
    "eday = datetime.datetime(2018, 5, 12)"
   ]
  },
  {
   "cell_type": "code",
   "execution_count": 15,
   "metadata": {},
   "outputs": [
    {
     "data": {
      "text/plain": [
       "['Amstelveen',\n",
       " 'Amsterdam',\n",
       " 'Bloemendaal',\n",
       " 'Breda',\n",
       " 'Delft',\n",
       " 'Den Bosch',\n",
       " 'Den Haag',\n",
       " 'Diverse',\n",
       " 'Drenthe',\n",
       " 'Eindhoven',\n",
       " 'Geldrop',\n",
       " 'Groningen',\n",
       " 'Haarlem',\n",
       " 'Helmond',\n",
       " 'Kijkduin',\n",
       " 'Leiden',\n",
       " 'Scheveningen',\n",
       " 'Tilburg',\n",
       " 'Unknown',\n",
       " 'Zandvoort']"
      ]
     },
     "execution_count": 15,
     "metadata": {},
     "output_type": "execute_result"
    }
   ],
   "source": [
    "sorted(wap.cities)"
   ]
  },
  {
   "cell_type": "code",
   "execution_count": 12,
   "metadata": {},
   "outputs": [
    {
     "data": {
      "text/plain": [
       "'Kazerne'"
      ]
     },
     "execution_count": 12,
     "metadata": {},
     "output_type": "execute_result"
    }
   ],
   "source": [
    "wap.events[0].location"
   ]
  },
  {
   "cell_type": "code",
   "execution_count": 13,
   "metadata": {},
   "outputs": [
    {
     "data": {
      "text/plain": [
       "['Kazerne',\n",
       " 'Baltan Laboratories',\n",
       " 'Diverse locaties, Amsterdam',\n",
       " 'Stedelijk Museum Breda',\n",
       " 'Frans Hals Museum',\n",
       " 'FilmHallen',\n",
       " 'Van Eesteren Museum',\n",
       " 'Galerie Ron Mandos',\n",
       " 'Verkadefabriek',\n",
       " 'Internationaal Theater Amsterdam',\n",
       " 'POPEI',\n",
       " 'Martin Luther Kingpark',\n",
       " 'Natlab',\n",
       " 'Koninklijke Industrieele Groote Club',\n",
       " 'MU',\n",
       " 'Het Magazijn',\n",
       " 'Het Nutshuis',\n",
       " 'West Museumkwartier',\n",
       " 'Paradiso',\n",
       " 'Natlab',\n",
       " 'Verkadefabriek',\n",
       " 'Diverse locaties, Noord-Holland',\n",
       " 'Trianon',\n",
       " 'Tolhuistuin',\n",
       " 'Melkweg',\n",
       " 'De Tuin van de smid in Polderpark Cronesteyn',\n",
       " 'Frans Hals Museum',\n",
       " 'Blow Beach House',\n",
       " 'Oude Sterrewacht',\n",
       " 'EYE',\n",
       " 'MU',\n",
       " 'Lustwarande',\n",
       " 'Rijksmuseum Boerhaave',\n",
       " 'Lab 111',\n",
       " 'EYE',\n",
       " 'Cacaofabriek',\n",
       " 'Novum',\n",
       " 'Het Stenen Hoofd',\n",
       " 'Natlab',\n",
       " 'Stadsgehoorzaal',\n",
       " 'EYE',\n",
       " 'Kijkhuis',\n",
       " 'MU',\n",
       " 'De Pier',\n",
       " 'Kijkhuis',\n",
       " 'Humanity House',\n",
       " 'Internationaal Theater Amsterdam',\n",
       " 'Verschillende locaties in Den Haag',\n",
       " 'EYE',\n",
       " 'Tolhuistuin',\n",
       " 'Bij jou thuis',\n",
       " 'Natlab',\n",
       " 'FilmHallen',\n",
       " 'Effenaar',\n",
       " 'Stadsgehoorzaal',\n",
       " 'Verkadefabriek',\n",
       " 'POPEI',\n",
       " 'WOW Amsterdam',\n",
       " 'Metrostation Kraaiennest',\n",
       " 'Sugarfactory',\n",
       " 'Zuiderparktheater',\n",
       " 'Museum Volkenkunde',\n",
       " 'Frederiksoord',\n",
       " 'Diverse locaties, Noord-Nederland',\n",
       " 'Het Nutshuis',\n",
       " 'Grand Theatre',\n",
       " 'Amsterdam Zuidoost',\n",
       " 'Podium Mozaïek',\n",
       " 'Fruittuin van West',\n",
       " 'Verkadefabriek',\n",
       " 'Willem Twee Kunstruimte',\n",
       " 'Zuiderparktheater',\n",
       " 'Parkeerterrein Mols',\n",
       " 'Bleyenberg',\n",
       " 'Willem Twee Kunstruimte',\n",
       " 'Zuiderparktheater',\n",
       " 'Metrostation Kraaiennest',\n",
       " 'Theater De Generator',\n",
       " 'De Tuin van de smid in Polderpark Cronesteyn',\n",
       " 'Café BRET',\n",
       " 'Kijkhuis',\n",
       " 'Panorama Mesdag',\n",
       " 'Cacaofabriek',\n",
       " 'Bibliotheek Den Bosch',\n",
       " 'Natlab',\n",
       " 'De Tuin van de smid in Polderpark Cronesteyn',\n",
       " 'Huis Marseille',\n",
       " 'Korzo',\n",
       " 'Paard',\n",
       " 'Unknown',\n",
       " 'Parktheater',\n",
       " 'Humanity House',\n",
       " 'Pakhuis de Zwijger',\n",
       " 'EYE',\n",
       " 'Nieuwe Veste',\n",
       " 'Nieuwe Veste',\n",
       " 'POPEI',\n",
       " 'Internationaal Theater Amsterdam',\n",
       " 'Paard',\n",
       " 'Foam',\n",
       " 'MU',\n",
       " 'Natlab',\n",
       " 'Stroom',\n",
       " 'De Ceuvel',\n",
       " 'De Vishal',\n",
       " 'Het Nutshuis',\n",
       " 'Red Carpet Lounge',\n",
       " 'Nieuwe Veste',\n",
       " 'Caprera Openluchttheater en wandelpark',\n",
       " 'Framer Framed',\n",
       " 'De Tuin van de smid in Polderpark Cronesteyn',\n",
       " 'Lustwarande',\n",
       " 'Nieuwe Veste',\n",
       " 'Filmschuur',\n",
       " 'De Vishal',\n",
       " 'Filmschuur',\n",
       " 'Amsterdamse Bostheater',\n",
       " 'Korzo',\n",
       " 'Supperclub',\n",
       " 'Splendor',\n",
       " 'Sugarfactory',\n",
       " 'Patronaat',\n",
       " 'MU',\n",
       " 'Looiersgracht 60',\n",
       " 'Red Carpet Lounge',\n",
       " 'Korzo',\n",
       " 'Nieuwe Vide',\n",
       " 'Oude Kerk, Amsterdam',\n",
       " 'Trianon',\n",
       " 'Filmschuur',\n",
       " 'Café Belcampo',\n",
       " 'De NWE Vorst',\n",
       " 'Diverse locaties, Brabant',\n",
       " 'DCR',\n",
       " 'Het Nutshuis',\n",
       " '37PK',\n",
       " 'Red Carpet Lounge',\n",
       " 'Dansmakers Podium',\n",
       " 'Spuiplein',\n",
       " 'Willem Twee Concertzaal',\n",
       " 'Pakhuis de Zwijger',\n",
       " 'Toneelschuur',\n",
       " 'Panorama Mesdag',\n",
       " 'Korzo',\n",
       " 'Museum het Dolhuys',\n",
       " 'Caprera Openluchttheater en wandelpark',\n",
       " 'Rapa Nui',\n",
       " 'Lab 111',\n",
       " 'Het Amsterdamse Bostheater',\n",
       " 'MU',\n",
       " 'Oostblok',\n",
       " 'Bimhuis',\n",
       " 'Dansmakers Podium',\n",
       " 'Centrale Bibliotheek',\n",
       " 'Toneelschuur',\n",
       " 'Filmschuur',\n",
       " 'Muziekhuis (Qbus)',\n",
       " 'Theater Bellevue',\n",
       " 'Zuiderparktheater',\n",
       " 'Lustwarande',\n",
       " 'Dokzaal',\n",
       " 'Paradiso',\n",
       " 'De Rode Hoed',\n",
       " 'Toneelschuur',\n",
       " 'Frascati',\n",
       " 'Het Concertgebouw',\n",
       " 'Leidse Schouwburg',\n",
       " 'Theater aan het Spui',\n",
       " 'Stadsgehoorzaal',\n",
       " 'Internationaal Theater Amsterdam',\n",
       " 'MU',\n",
       " 'Korzo',\n",
       " 'Caprera Openluchttheater en wandelpark',\n",
       " 'De NWE Vorst',\n",
       " 'Caprera Openluchttheater en wandelpark',\n",
       " 'MU',\n",
       " 'Koninklijke Schouwburg',\n",
       " 'Het Concertgebouw',\n",
       " 'Theaters Tilburg',\n",
       " 'Filmschuur',\n",
       " 'Theater Bellevue',\n",
       " 'De Meervaart',\n",
       " 'Lab 111',\n",
       " 'Lustwarande',\n",
       " 'Filmschuur',\n",
       " 'Robin Food',\n",
       " 'Zaal 3',\n",
       " 'Club Smederij',\n",
       " 'Leidse Schouwburg',\n",
       " 'Sugarfactory',\n",
       " 'Toneelschuur',\n",
       " 'Zaal 3',\n",
       " 'Het Concertgebouw',\n",
       " 'Klokgebouw',\n",
       " 'Annatheater',\n",
       " 'Annatheater',\n",
       " 'Bibliotheek Dommeldal',\n",
       " 'Parkeerterrein Mols']"
      ]
     },
     "execution_count": 13,
     "metadata": {},
     "output_type": "execute_result"
    }
   ],
   "source": [
    "[ (e.location) for e in wap ]"
   ]
  },
  {
   "cell_type": "code",
   "execution_count": 14,
   "metadata": {},
   "outputs": [
    {
     "data": {
      "text/plain": [
       "{'id': 76807,\n",
       " 'title': 'King Lear | Toneelgroep Maastricht',\n",
       " 'genre_class': 'genre-theater',\n",
       " 'genre_classes': 'genre-theater',\n",
       " 'region_classes': 'region-leiden',\n",
       " 'template_url': 'https://www.wearepublic.nl/wp-content/themes/wearepublic.nl',\n",
       " 'thumbnail': {'event': '<img src=\"https://www.wearepublic.nl/wp-content/uploads/2018/01/King-LEar-720x481.jpg\" class=\"attachment-event_item_image size-event_item_image wp-post-image\" alt=\"\" srcset=\"https://www.wearepublic.nl/wp-content/uploads/2018/01/King-LEar-720x481.jpg 720w, https://www.wearepublic.nl/wp-content/uploads/2018/01/King-LEar-300x200.jpg 300w, https://www.wearepublic.nl/wp-content/uploads/2018/01/King-LEar-768x513.jpg 768w, https://www.wearepublic.nl/wp-content/uploads/2018/01/King-LEar-1024x684.jpg 1024w, https://www.wearepublic.nl/wp-content/uploads/2018/01/King-LEar-500x334.jpg 500w, https://www.wearepublic.nl/wp-content/uploads/2018/01/King-LEar.jpg 1140w\" sizes=\"(max-width: 720px) 100vw, 720px\" />',\n",
       "  'square': '<img src=\"https://www.wearepublic.nl/wp-content/uploads/2018/01/King-LEar-720x481.jpg\" class=\"attachment-event_item_image size-event_item_image wp-post-image\" alt=\"\" srcset=\"https://www.wearepublic.nl/wp-content/uploads/2018/01/King-LEar-720x481.jpg 720w, https://www.wearepublic.nl/wp-content/uploads/2018/01/King-LEar-300x200.jpg 300w, https://www.wearepublic.nl/wp-content/uploads/2018/01/King-LEar-768x513.jpg 768w, https://www.wearepublic.nl/wp-content/uploads/2018/01/King-LEar-1024x684.jpg 1024w, https://www.wearepublic.nl/wp-content/uploads/2018/01/King-LEar-500x334.jpg 500w, https://www.wearepublic.nl/wp-content/uploads/2018/01/King-LEar.jpg 1140w\" sizes=\"(max-width: 720px) 100vw, 720px\" />'},\n",
       " 'permalink': 'https://www.wearepublic.nl/event/king-lear-2/',\n",
       " 'tags': [{'term_id': 5,\n",
       "   'name': 'Theater',\n",
       "   'slug': 'theater',\n",
       "   'term_group': 0,\n",
       "   'term_taxonomy_id': 5,\n",
       "   'taxonomy': 'event_cat',\n",
       "   'description': '',\n",
       "   'parent': 0,\n",
       "   'count': 1604,\n",
       "   'filter': 'raw'},\n",
       "  {'term_id': 895,\n",
       "   'name': 'Highlight',\n",
       "   'slug': 'highlight',\n",
       "   'term_group': 0,\n",
       "   'term_taxonomy_id': 895,\n",
       "   'taxonomy': 'event_tag',\n",
       "   'description': '',\n",
       "   'parent': 0,\n",
       "   'count': 222,\n",
       "   'filter': 'raw'}],\n",
       " 'date': {'classes': 'col-xs-12 col-sm-6 item col-lg-3 col-md-4 week',\n",
       "  'date': '<span>19</span>sep',\n",
       "  'full': 'woensdag 19 september',\n",
       "  'time': '19:30',\n",
       "  'day': '<span>wo</span>19 sep'},\n",
       " 'author': {'quote': False,\n",
       "  'thumbnail': '',\n",
       "  'classes': 'author-we-are-public'},\n",
       " 'location': {'location': 'Leidse Schouwburg', 'city': 'Leiden'},\n",
       " 'lang_term_names': ['Theater', 'Highlight']}"
      ]
     },
     "execution_count": 14,
     "metadata": {},
     "output_type": "execute_result"
    }
   ],
   "source": [
    "wap[76807].data"
   ]
  },
  {
   "cell_type": "code",
   "execution_count": null,
   "metadata": {},
   "outputs": [],
   "source": []
  }
 ],
 "metadata": {
  "kernelspec": {
   "display_name": "Python 3",
   "language": "python",
   "name": "python3"
  },
  "language_info": {
   "codemirror_mode": {
    "name": "ipython",
    "version": 3
   },
   "file_extension": ".py",
   "mimetype": "text/x-python",
   "name": "python",
   "nbconvert_exporter": "python",
   "pygments_lexer": "ipython3",
   "version": "3.6.5"
  }
 },
 "nbformat": 4,
 "nbformat_minor": 2
}
