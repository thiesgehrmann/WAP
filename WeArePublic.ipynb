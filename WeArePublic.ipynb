{
 "cells": [
  {
   "cell_type": "markdown",
   "metadata": {},
   "source": [
    "# Improved lookup of We are Public events"
   ]
  },
  {
   "cell_type": "code",
   "execution_count": 3,
   "metadata": {},
   "outputs": [
    {
     "ename": "SyntaxError",
     "evalue": "invalid syntax (<ipython-input-3-e55d78269148>, line 1)",
     "output_type": "error",
     "traceback": [
      "\u001b[0;36m  File \u001b[0;32m\"<ipython-input-3-e55d78269148>\"\u001b[0;36m, line \u001b[0;32m1\u001b[0m\n\u001b[0;31m    import biu from ..BIU\u001b[0m\n\u001b[0m                  ^\u001b[0m\n\u001b[0;31mSyntaxError\u001b[0m\u001b[0;31m:\u001b[0m invalid syntax\n"
     ]
    }
   ],
   "source": [
    "import biu from ..BIU\n",
    "import json\n",
    "import IPython\n",
    "import pandas as pd\n",
    "\n"
   ]
  },
  {
   "cell_type": "code",
   "execution_count": 109,
   "metadata": {},
   "outputs": [],
   "source": [
    "class WeArePublic(object):\n",
    "    \n",
    "    class Event(object):\n",
    "        def __init__(self, data):\n",
    "            self.data = data\n",
    "            self.extracted = {}\n",
    "        #edef\n",
    "        \n",
    "        def __getattr__(self, key):\n",
    "            if key in self.data:\n",
    "                return self.data[key]\n",
    "            #fi\n",
    "            raise ValueError\n",
    "        #edef\n",
    "        \n",
    "        @property\n",
    "        def url(self):\n",
    "            return self.data['permalink']\n",
    "        #edef\n",
    "\n",
    "        @property\n",
    "        def permdata(self):\n",
    "            if 'permdata' not in self.extracted:\n",
    "                d = open(biu.utils.Acquire().curl(self.url).acquire(), 'r').read()\n",
    "                self.extracted['permdata'] = d\n",
    "            #fi\n",
    "            return self.extracted['permdata']\n",
    "        #edef\n",
    "        \n",
    "        @property\n",
    "        def date(self):\n",
    "            if 'date' not in self.extracted:\n",
    "                self.extracted['date'] = self.data['date']['day'].split('>')[-1]\n",
    "            #fi\n",
    "            return self.extracted['date']\n",
    "        \n",
    "        @property\n",
    "        def day(self):\n",
    "            if 'day' not in self.extracted:\n",
    "                self.extracted['day'] = int(self.date.split(' ')[0])\n",
    "            #fi\n",
    "            return self.extracted['day']\n",
    "        #edef\n",
    "        \n",
    "        @property\n",
    "        def month(self):\n",
    "            if 'month' not in self.extracted:\n",
    "                self.extracted['month'] = self.date.split(' ')[1]\n",
    "            #fi\n",
    "            return self.extracted['month']\n",
    "        #edef\n",
    "        \n",
    "        @property\n",
    "        def category(self):\n",
    "            cat = [ c for c in self.data['lang_term_names'] if c is not None ] if ('lang_term_names' in self.data) else []\n",
    "            return cat\n",
    "        #edef\n",
    "        \n",
    "        @property\n",
    "        def location(self):\n",
    "            return self.data['location']['location']\n",
    "        #edef\n",
    "        \n",
    "        @property\n",
    "        def city(self):\n",
    "            return self.data['location']['city']\n",
    "        #edef\n",
    "        \n",
    "        @property\n",
    "        def price(self):\n",
    "            if 'price' not in self.extracted:\n",
    "                lines = [line for line in self.permdata.split('\\n') if 'meta' not in line]\n",
    "                relLine = [ line for line in lines if ('voor We Are Public-leden' in line) ]\n",
    "                if len(relLine) == 0:\n",
    "                    relLine = [ line for line in lines if ('toegang' in line) ]\n",
    "                #fi\n",
    "                \n",
    "                if len(relLine) == 0:\n",
    "                    relLine = [ 'vrij' ]\n",
    "                #fi\n",
    "                relLine = relLine[0].lower()\n",
    "                price = 0\n",
    "                if 'vrij' not in relLine:\n",
    "                    price = relLine.split()[0].split('>')[-1].strip()\n",
    "                    if price in ['vrij', 'vrije', 'exclusief']:\n",
    "                        price = 0\n",
    "                    else:\n",
    "                        price = float(price[1:].replace(',', '.'))\n",
    "                    #fi\n",
    "                #fi\n",
    "                self.extracted['price'] = price\n",
    "            #fi\n",
    "            return self.extracted['price']\n",
    "        #edef                \n",
    "        \n",
    "        @property\n",
    "        def bookable(self):\n",
    "            if 'bookable' not in self.extracted:\n",
    "                b = 'Kaartje reserveren' in self.permdata\n",
    "                self.extracted['bookable'] = b\n",
    "            #fi\n",
    "            return self.extracted['bookable']\n",
    "        #edef\n",
    "        \n",
    "        def __getitem__(self, key):\n",
    "            return self.data[key]\n",
    "        #edef\n",
    "        \n",
    "        #def _repr_pretty_(self, *pargs):\n",
    "        #    return self.data['thumbnail']['event']\n",
    "        #edef\n",
    "        \n",
    "        def _repr_html_(self):\n",
    "            print(\"NOW IN REPR HTML\")\n",
    "            return '<div>' + self.data['thumbnail']['event'] + '</div>'\n",
    "        #edef\n",
    "        \n",
    "        def __repr__(self):\n",
    "            return str(self)\n",
    "        #edef\n",
    "        \n",
    "        def __str__(self):\n",
    "            dstr  = \"WAP Event\\n\"\n",
    "            dstr += \" Title:    %s\\n\" % self.title\n",
    "            dstr += \" Date:     %s\\n\" % self.date\n",
    "            dstr += \" Location: %s\\n\" % self.location\n",
    "            dstr += \" City:     %s\\n\" % self.city\n",
    "            dstr += \" Bookable: %s\\n\" % ('Yes' if self.bookable else 'No')\n",
    "            dstr += \" URL:      %s\\n\" % self.url\n",
    "            dstr += \" Category: %s\\n\" % ' | '.join(self.category)\n",
    "            return dstr\n",
    "        #edef\n",
    "        \n",
    "    #eclass\n",
    "    \n",
    "    def __init__(self, events=None, redo=False):\n",
    "        if events is None:\n",
    "            events = self.__retrieveEvents(redo)\n",
    "        #fi\n",
    "        self.events = events\n",
    "        \n",
    "        self.__idx = { e.id : i for (i,e) in enumerate(self.events) }\n",
    "    #edef\n",
    "    \n",
    "    def __retrieveEvents(self, redo):\n",
    "        eventList = []\n",
    "        for page in range(1,15):\n",
    "            ao = biu.utils.Acquire(redo=redo).curl('https://www.wearepublic.nl/wp-json/wearepublic/v1/events/?page=%d&search=' % page)\n",
    "            eventList.extend(json.load(open(ao.acquire(),'r')))\n",
    "        #efor\n",
    "        eventList = biu.processing.lst.uniq(eventList, key=lambda x: x['permalink'])\n",
    "        return [ self.Event(data) for data in eventList]\n",
    "    #edef\n",
    "    \n",
    "    def bookables(self):\n",
    "        return WeArePublic(events=[ e for e in self.events if e.bookable ])\n",
    "    #edef\n",
    "    \n",
    "    def query(self, city=None,\n",
    "              day=None,\n",
    "              month=None,\n",
    "              category=None):\n",
    "        \"\"\"Retrieve only events which match certain criteria\n",
    "        Inputs: city: String or lists of strings of city names\n",
    "                day: Integer or list of integers (range object possible)\n",
    "                month: String or lists of strings of months (jan|feb|mar etc)\n",
    "                category: String or lists of strings of categories\"\"\"\n",
    "        city     = [ city ] if isinstance(city, str) else city\n",
    "        day      = [ day ] if isinstance(day, int) else day\n",
    "        month    = [ month ] if isinstance(month, str) else month\n",
    "        category = [ category ] if isinstance(category, str) else category\n",
    "        \n",
    "        relEvents = [ e for e in self.events if\n",
    "                        ( (city is None)     or (e.city in city)       ) and\n",
    "                        ( (day is None)      or (e.day in day)         ) and\n",
    "                        ( (month is None)    or (e.month in month)     ) and\n",
    "                        ( (category is None) or (e.category in category) ) ]\n",
    "        \n",
    "        return WeArePublic(relEvents )\n",
    "    #edef\n",
    "    \n",
    "    @property\n",
    "    def categories(self):\n",
    "        return [ c for c in \n",
    "                  biu.processing.lst.uniq(biu.processing.lst.flatten([ e.category for e in self.events ]))\n",
    "                 if c is not None ]\n",
    "    #edef\n",
    "    \n",
    "    @property\n",
    "    def months(self):\n",
    "        return biu.processing.lst.uniq([ e.month for e in self.events])\n",
    "    #edef\n",
    "    \n",
    "    @property\n",
    "    def calendar(self):\n",
    "        import pandas as pd\n",
    "        cal = { m : [ \"\" for i in range(31) ] for m in self.months }\n",
    "        for e in self.events:\n",
    "            cal[e.month][e.day-1] = cal[e.month][e.day-1] + ' ' + str(e.id)\n",
    "        #efor\n",
    "        df = pd.DataFrame.from_dict(cal)\n",
    "        df.index = df.index+1\n",
    "        return df\n",
    "    #edef\n",
    "    \n",
    "    @property\n",
    "    def table(self):\n",
    "        data = [ ( e.id,\n",
    "                   'Yes' if e.bookable else 'No', \n",
    "                   '|'.join(e.category),\n",
    "                   e.city,\n",
    "                   e.price,\n",
    "                   e.date,\n",
    "                   e.title) for e in self.events ]\n",
    "        return pd.DataFrame(data, columns=['ID', 'Bookable', 'Category', 'City', 'Price', 'Date', 'Title']).set_index('ID')\n",
    "    #edef\n",
    "        \n",
    "    \n",
    "    def __getitem__(self, key):\n",
    "        return self.events[self.__idx[key]]\n",
    "    #edef\n",
    "    \n",
    "    def _repr_html_(self):\n",
    "        return self.table._repr_html_()\n",
    "    #edef\n",
    "    \n",
    "    def __repr__(self):\n",
    "        return str(self)\n",
    "    #edef\n",
    "    \n",
    "    def __str__(self):\n",
    "        dstr = \"WeArePublic Events\\n\"\n",
    "        dstr += '\\n'.join([ ' (%5d)%s <%s> %s' % (e.id, '[B]' if e.bookable else '   ', e.date, e.title) for (i,e) in enumerate(self.events) ])\n",
    "        return dstr\n",
    "    #edef\n",
    "    \n",
    "#eclass\n",
    "        \n",
    "\n",
    "\n",
    "wap = WeArePublic()"
   ]
  },
  {
   "cell_type": "code",
   "execution_count": 102,
   "metadata": {},
   "outputs": [
    {
     "data": {
      "text/plain": [
       "'<div>\\n<style scoped>\\n    .dataframe tbody tr th:only-of-type {\\n        vertical-align: middle;\\n    }\\n\\n    .dataframe tbody tr th {\\n        vertical-align: top;\\n    }\\n\\n    .dataframe thead th {\\n        text-align: right;\\n    }\\n</style>\\n<table border=\"1\" class=\"dataframe\">\\n  <thead>\\n    <tr style=\"text-align: right;\">\\n      <th></th>\\n      <th>Bookable</th>\\n      <th>Category</th>\\n      <th>City</th>\\n      <th>Price</th>\\n      <th>Date</th>\\n      <th>Title</th>\\n    </tr>\\n    <tr>\\n      <th>ID</th>\\n      <th></th>\\n      <th></th>\\n      <th></th>\\n      <th></th>\\n      <th></th>\\n      <th></th>\\n    </tr>\\n  </thead>\\n  <tbody>\\n    <tr>\\n      <th>74588</th>\\n      <td>No</td>\\n      <td>Film</td>\\n      <td>Leiden</td>\\n      <td>0</td>\\n      <td>18 aug</td>\\n      <td>Trianon klassiekers | Billy Wilder | Ace in th...</td>\\n    </tr>\\n    <tr>\\n      <th>75823</th>\\n      <td>Yes</td>\\n      <td>Theater</td>\\n      <td>Leiden</td>\\n      <td>0</td>\\n      <td>19 aug</td>\\n      <td>Tussenland | PS|theater</td>\\n    </tr>\\n    <tr>\\n      <th>76990</th>\\n      <td>No</td>\\n      <td>Beeldende Kunst|Luisteren</td>\\n      <td>Leiden</td>\\n      <td>0</td>\\n      <td>19 aug</td>\\n      <td>Sizzling Summer of Space | Leiden in Space</td>\\n    </tr>\\n    <tr>\\n      <th>77003</th>\\n      <td>No</td>\\n      <td>Luisteren</td>\\n      <td>Leiden</td>\\n      <td>0</td>\\n      <td>19 aug</td>\\n      <td>Sizzling Summer of Space | Leiden in Space</td>\\n    </tr>\\n    <tr>\\n      <th>75808</th>\\n      <td>Yes</td>\\n      <td>Muziek|Theater</td>\\n      <td>Leiden</td>\\n      <td>0</td>\\n      <td>22 aug</td>\\n      <td>Pinokkio | Veenfabriek, La Compagnie du Tire-L...</td>\\n    </tr>\\n    <tr>\\n      <th>75852</th>\\n      <td>No</td>\\n      <td>Film</td>\\n      <td>Leiden</td>\\n      <td>0</td>\\n      <td>23 aug</td>\\n      <td>Waterboys</td>\\n    </tr>\\n    <tr>\\n      <th>75812</th>\\n      <td>Yes</td>\\n      <td>Muziek|Theater</td>\\n      <td>Leiden</td>\\n      <td>0</td>\\n      <td>24 aug</td>\\n      <td>Pinokkio | Veenfabriek, La Compagnie du Tire-L...</td>\\n    </tr>\\n    <tr>\\n      <th>77402</th>\\n      <td>No</td>\\n      <td>Beeldende Kunst</td>\\n      <td>Leiden</td>\\n      <td>0</td>\\n      <td>24 aug</td>\\n      <td>World Press Photo 2018</td>\\n    </tr>\\n    <tr>\\n      <th>75110</th>\\n      <td>No</td>\\n      <td>Luisteren|Theater</td>\\n      <td>Leiden</td>\\n      <td>0</td>\\n      <td>26 aug</td>\\n      <td>Zomertransformaties | Transforming Shadows | J...</td>\\n    </tr>\\n    <tr>\\n      <th>76549</th>\\n      <td>Yes</td>\\n      <td>Theater</td>\\n      <td>Leiden</td>\\n      <td>0</td>\\n      <td>26 aug</td>\\n      <td>Tussenland | PS|theater</td>\\n    </tr>\\n    <tr>\\n      <th>76553</th>\\n      <td>Yes</td>\\n      <td>Theater</td>\\n      <td>Leiden</td>\\n      <td>0</td>\\n      <td>28 aug</td>\\n      <td>Tussenland | PS|theater</td>\\n    </tr>\\n    <tr>\\n      <th>77915</th>\\n      <td>No</td>\\n      <td>Beeldende Kunst|Film</td>\\n      <td>Leiden</td>\\n      <td>0</td>\\n      <td>01 sep</td>\\n      <td>Red Carpet Lounge | Opening Night</td>\\n    </tr>\\n    <tr>\\n      <th>76556</th>\\n      <td>Yes</td>\\n      <td>Theater</td>\\n      <td>Leiden</td>\\n      <td>0</td>\\n      <td>02 sep</td>\\n      <td>Tussenland | PS|theater</td>\\n    </tr>\\n    <tr>\\n      <th>77073</th>\\n      <td>No</td>\\n      <td>Film</td>\\n      <td>Leiden</td>\\n      <td>0</td>\\n      <td>08 sep</td>\\n      <td>De Binocle</td>\\n    </tr>\\n    <tr>\\n      <th>77124</th>\\n      <td>No</td>\\n      <td>Muziek</td>\\n      <td>Leiden</td>\\n      <td>0</td>\\n      <td>15 sep</td>\\n      <td>Sepideh Raissadat Trio</td>\\n    </tr>\\n    <tr>\\n      <th>76807</th>\\n      <td>No</td>\\n      <td>Theater|Highlight</td>\\n      <td>Leiden</td>\\n      <td>0</td>\\n      <td>19 sep</td>\\n      <td>King Lear | Toneelgroep Maastricht</td>\\n    </tr>\\n    <tr>\\n      <th>76837</th>\\n      <td>No</td>\\n      <td>Muziek</td>\\n      <td>Leiden</td>\\n      <td>0</td>\\n      <td>19 sep</td>\\n      <td>Symfonie no. 5 &amp; no. 6 | Beethoven | Nieuwe Ph...</td>\\n    </tr>\\n    <tr>\\n      <th>77158</th>\\n      <td>No</td>\\n      <td>Theater</td>\\n      <td>Leiden</td>\\n      <td>0</td>\\n      <td>27 sep</td>\\n      <td>De vloer op | Peter de Baan</td>\\n    </tr>\\n  </tbody>\\n</table>\\n</div>'"
      ]
     },
     "execution_count": 102,
     "metadata": {},
     "output_type": "execute_result"
    }
   ],
   "source": [
    "wap.query(city='Leiden')._repr_html_()"
   ]
  },
  {
   "cell_type": "code",
   "execution_count": 111,
   "metadata": {},
   "outputs": [
    {
     "name": "stdout",
     "output_type": "stream",
     "text": [
      "NOW IN REPR HTML\n"
     ]
    },
    {
     "data": {
      "text/plain": [
       "'<div><img src=\"https://www.wearepublic.nl/wp-content/uploads/2018/07/pinokkio-720x432.jpg\" class=\"attachment-event_item_image size-event_item_image wp-post-image\" alt=\"\" srcset=\"https://www.wearepublic.nl/wp-content/uploads/2018/07/pinokkio-720x432.jpg 720w, https://www.wearepublic.nl/wp-content/uploads/2018/07/pinokkio-300x180.jpg 300w, https://www.wearepublic.nl/wp-content/uploads/2018/07/pinokkio-768x461.jpg 768w, https://www.wearepublic.nl/wp-content/uploads/2018/07/pinokkio-1024x614.jpg 1024w, https://www.wearepublic.nl/wp-content/uploads/2018/07/pinokkio-500x300.jpg 500w, https://www.wearepublic.nl/wp-content/uploads/2018/07/pinokkio.jpg 1034w\" sizes=\"(max-width: 720px) 100vw, 720px\" /></div>'"
      ]
     },
     "execution_count": 111,
     "metadata": {},
     "output_type": "execute_result"
    }
   ],
   "source": [
    "wap[75812]._repr_html_()"
   ]
  },
  {
   "cell_type": "code",
   "execution_count": 60,
   "metadata": {},
   "outputs": [],
   "source": [
    "relLine = [ line for line in wap[75209].permdata.split('\\n') if 'voor We Are Public-leden' in line ]"
   ]
  },
  {
   "cell_type": "code",
   "execution_count": 61,
   "metadata": {},
   "outputs": [
    {
     "data": {
      "text/plain": [
       "[]"
      ]
     },
     "execution_count": 61,
     "metadata": {},
     "output_type": "execute_result"
    }
   ],
   "source": [
    "relLine"
   ]
  },
  {
   "cell_type": "code",
   "execution_count": 89,
   "metadata": {},
   "outputs": [
    {
     "name": "stdout",
     "output_type": "stream",
     "text": [
      "WAP Event\n",
      " Title:    As You Like It\n",
      " Date:     29 sep\n",
      " Location: Annatheater\n",
      " City:     Helmond\n",
      " Bookable: No\n",
      " URL:      https://www.wearepublic.nl/event/as-you-like-it/\n",
      " Category: Theater\n",
      "\n"
     ]
    }
   ],
   "source": [
    "print(wap[77154])"
   ]
  },
  {
   "cell_type": "code",
   "execution_count": 113,
   "metadata": {},
   "outputs": [
    {
     "data": {
      "text/plain": [
       "str"
      ]
     },
     "execution_count": 113,
     "metadata": {},
     "output_type": "execute_result"
    }
   ],
   "source": [
    "type(wap._repr_html_())"
   ]
  },
  {
   "cell_type": "code",
   "execution_count": null,
   "metadata": {},
   "outputs": [],
   "source": []
  }
 ],
 "metadata": {
  "kernelspec": {
   "display_name": "Python [conda env:biu]",
   "language": "python",
   "name": "conda-env-biu-py"
  },
  "language_info": {
   "codemirror_mode": {
    "name": "ipython",
    "version": 3
   },
   "file_extension": ".py",
   "mimetype": "text/x-python",
   "name": "python",
   "nbconvert_exporter": "python",
   "pygments_lexer": "ipython3",
   "version": "3.6.3"
  }
 },
 "nbformat": 4,
 "nbformat_minor": 2
}
